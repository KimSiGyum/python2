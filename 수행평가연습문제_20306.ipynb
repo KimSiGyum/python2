{
  "nbformat": 4,
  "nbformat_minor": 0,
  "metadata": {
    "colab": {
      "provenance": [],
      "authorship_tag": "ABX9TyPUFbckloxLn8IpuIKlc1I2",
      "include_colab_link": true
    },
    "kernelspec": {
      "name": "python3",
      "display_name": "Python 3"
    },
    "language_info": {
      "name": "python"
    }
  },
  "cells": [
    {
      "cell_type": "markdown",
      "metadata": {
        "id": "view-in-github",
        "colab_type": "text"
      },
      "source": [
        "<a href=\"https://colab.research.google.com/github/KimSiGyum/python2/blob/main/%EC%88%98%ED%96%89%ED%8F%89%EA%B0%80%EC%97%B0%EC%8A%B5%EB%AC%B8%EC%A0%9C_20306.ipynb\" target=\"_parent\"><img src=\"https://colab.research.google.com/assets/colab-badge.svg\" alt=\"Open In Colab\"/></a>"
      ]
    },
    {
      "cell_type": "code",
      "source": [
        "a, b = 12, 34\n",
        "a, b = b, a\n",
        "print(a, b)"
      ],
      "metadata": {
        "colab": {
          "base_uri": "https://localhost:8080/"
        },
        "id": "Et-LOkRfxyiO",
        "outputId": "3a5847ae-afe0-4a36-f053-22084f7e9767"
      },
      "execution_count": null,
      "outputs": [
        {
          "output_type": "stream",
          "name": "stdout",
          "text": [
            "34 12\n"
          ]
        }
      ]
    },
    {
      "cell_type": "code",
      "execution_count": null,
      "metadata": {
        "colab": {
          "base_uri": "https://localhost:8080/"
        },
        "id": "yiwJtIz1xrvO",
        "outputId": "a793dfd5-2f2c-42d6-965b-5358b785da50"
      },
      "outputs": [
        {
          "output_type": "stream",
          "name": "stdout",
          "text": [
            "요소 추가 이전: {}\n",
            "요소 추가ㅏ 이후: {'작가': '황미나', '연재작': '이오니아의 푸른 별', '최근작': '보톡스'}\n",
            "요소 제거 이후: {'작가': '황미나', '최근작': '보톡스'}\n"
          ]
        }
      ],
      "source": [
        "animation = {}\n",
        "\n",
        "print(\"요소 추가 이전:\", animation)\n",
        "\n",
        "animation['작가'] = '황미나'\n",
        "animation['연재작'] = '이오니아의 푸른 별'\n",
        "animation['최근작'] = '보톡스'\n",
        "\n",
        "print(\"요소 추가ㅏ 이후:\", animation)\n",
        "\n",
        "del(animation['연재작'])\n",
        "print(\"요소 제거 이후:\", animation)"
      ]
    },
    {
      "cell_type": "code",
      "source": [
        "rainbow = {'빨강' : 'red', '주황' : 'orange', '노' : 'yellow', '초' : 'green', '파' : 'blue', '남' : 'navy', '보' : 'purple'}\n",
        "\n",
        "print(\"초록색=\", rainbow['초'])\n",
        "\n",
        "rainbow['흰'] = 'white'\n",
        "\n",
        "rainbow['주황'] = 'juhwang'\n",
        "\n",
        "del(rainbow['파'])\n",
        "\n",
        "print(rainbow)"
      ],
      "metadata": {
        "colab": {
          "base_uri": "https://localhost:8080/"
        },
        "id": "aQ5EiKo-xxje",
        "outputId": "feaab379-3c4b-46a1-d98b-b0ffe2f292db"
      },
      "execution_count": null,
      "outputs": [
        {
          "output_type": "stream",
          "name": "stdout",
          "text": [
            "초록색= green\n",
            "{'빨강': 'red', '주황': 'juhwang', '노': 'yellow', '초': 'green', '남': 'navy', '보': 'purple', '흰': 'white'}\n"
          ]
        }
      ]
    },
    {
      "cell_type": "code",
      "source": [
        "dic = {'boy' : '소년', 'school' : '학교', 'book' : '책'}\n",
        "print(dic.keys())\n",
        "print(dic.values())\n",
        "print(dic.items())"
      ],
      "metadata": {
        "colab": {
          "base_uri": "https://localhost:8080/"
        },
        "id": "O9pQAlfUxxln",
        "outputId": "05df0412-ab65-45e2-cb14-488a3d1b639f"
      },
      "execution_count": null,
      "outputs": [
        {
          "output_type": "stream",
          "name": "stdout",
          "text": [
            "dict_keys(['boy', 'school', 'book'])\n",
            "dict_values(['소년', '학교', '책'])\n",
            "dict_items([('boy', '소년'), ('school', '학교'), ('book', '책')])\n"
          ]
        }
      ]
    },
    {
      "cell_type": "code",
      "source": [
        "dic = {'boy' : '소년', 'school' : '학교', 'book' : '책'}\n",
        "print(dic.get('boy'))\n",
        "print(dic.get('student'))\n",
        "print(dic.get('student', '사전에 없는 단어입니다.'))"
      ],
      "metadata": {
        "colab": {
          "base_uri": "https://localhost:8080/"
        },
        "id": "St_K9inKxxoQ",
        "outputId": "30507a8d-fd6c-4250-87c8-540b40a6d2d8"
      },
      "execution_count": null,
      "outputs": [
        {
          "output_type": "stream",
          "name": "stdout",
          "text": [
            "소년\n",
            "None\n",
            "사전에 없는 단어입니다.\n"
          ]
        }
      ]
    },
    {
      "cell_type": "code",
      "source": [
        "pets = [{\"name\" : \"구를\", \"age\" : 5},\n",
        "        {\"name\" : \"초코\", \"age\" : 3},\n",
        "        {\"name\" : \"아지\", \"age\" : 1},\n",
        "        {\"name\" : \"호랑이\", \"age\" : 1}]\n",
        "print(\"#우리 동네 애완 동물들#\")\n",
        "for i in pets:\n",
        "    print(i['name'], i['age'], '살')"
      ],
      "metadata": {
        "colab": {
          "base_uri": "https://localhost:8080/"
        },
        "id": "XA-Mp16vxxq4",
        "outputId": "04206c1b-285b-4739-8ec8-92b2b916e719"
      },
      "execution_count": null,
      "outputs": [
        {
          "output_type": "stream",
          "name": "stdout",
          "text": [
            "#우리 동네 애완 동물들#\n",
            "구를 5 살\n",
            "초코 3 살\n",
            "아지 1 살\n",
            "호랑이 1 살\n"
          ]
        }
      ]
    },
    {
      "cell_type": "code",
      "source": [
        "numbers = [1,2,3,4,5,6,8,9,5,1,7,3,5,1,3,5,7,9,]\n",
        "count = {}\n",
        "for n in numbers:\n",
        "    if n in count :\n",
        "        count[n] += 1\n",
        "\n",
        "    else:\n",
        "        count[n] = 1\n",
        "\n",
        "\n",
        "print(count)"
      ],
      "metadata": {
        "colab": {
          "base_uri": "https://localhost:8080/"
        },
        "id": "EfKj67BwxxtO",
        "outputId": "a63123e3-3431-479d-e88a-016eff676ea8"
      },
      "execution_count": null,
      "outputs": [
        {
          "output_type": "stream",
          "name": "stdout",
          "text": [
            "{1: 3, 2: 1, 3: 3, 4: 1, 5: 4, 6: 1, 8: 1, 9: 2, 7: 2}\n"
          ]
        }
      ]
    },
    {
      "cell_type": "code",
      "source": [
        "def Hi():\n",
        "    print(\"Helow World!\")\n",
        "Hi()"
      ],
      "metadata": {
        "colab": {
          "base_uri": "https://localhost:8080/"
        },
        "id": "JBcvDxGqxxv6",
        "outputId": "285ec0c3-3a3e-41f9-d0d4-d253b940bfa1"
      },
      "execution_count": null,
      "outputs": [
        {
          "output_type": "stream",
          "name": "stdout",
          "text": [
            "Helow World!\n"
          ]
        }
      ]
    },
    {
      "cell_type": "code",
      "source": [
        "def avg(a, b, c):\n",
        "    print((a+b+c)/3)\n",
        "avg(3,5,10)"
      ],
      "metadata": {
        "colab": {
          "base_uri": "https://localhost:8080/"
        },
        "id": "I-mduOYzxxym",
        "outputId": "fc29260b-6be7-4628-cecc-22514adf779a"
      },
      "execution_count": null,
      "outputs": [
        {
          "output_type": "stream",
          "name": "stdout",
          "text": [
            "6.0\n"
          ]
        }
      ]
    },
    {
      "cell_type": "code",
      "source": [
        "def print_n_times(n, *values):\n",
        "    for i in range(n):\n",
        "        for value in values:\n",
        "            print(value, end = ' ')\n",
        "        print()\n",
        "\n",
        "print_n_times(2, \"안녕하세요\", \"즐거운\", \"파이썬\")\n",
        "print_n_times(1, \"즐거운\", \"파이썬\")"
      ],
      "metadata": {
        "colab": {
          "base_uri": "https://localhost:8080/"
        },
        "id": "gPwyZqaCxx3f",
        "outputId": "e8bf2d96-224a-48b8-e5ad-1328f49364cf"
      },
      "execution_count": null,
      "outputs": [
        {
          "output_type": "stream",
          "name": "stdout",
          "text": [
            "안녕하세요 즐거운 파이썬 \n",
            "안녕하세요 즐거운 파이썬 \n",
            "즐거운 파이썬 \n"
          ]
        }
      ]
    },
    {
      "cell_type": "code",
      "source": [
        "def calcstep(begin, end, step=1):\n",
        "    sum = 0\n",
        "    for num in range(begin, end + 1, step):\n",
        "        sum += num\n",
        "    print(f\"{begin}부터 {end}까지 숫자 중 {step}간격씩 더한 값은 {sum}\")\n",
        "\n",
        "calcstep(1, 100, 2)\n",
        "calcstep(1, 100)\n"
      ],
      "metadata": {
        "colab": {
          "base_uri": "https://localhost:8080/"
        },
        "id": "nqIVe0d2433E",
        "outputId": "ffa11fb1-4cd7-4b73-f49c-7183f83ee01b"
      },
      "execution_count": null,
      "outputs": [
        {
          "output_type": "stream",
          "name": "stdout",
          "text": [
            "1부터 100까지 숫자 중 2간격씩 더한 값은 2500\n",
            "1부터 100까지 숫자 중 1간격씩 더한 값은 5050\n"
          ]
        }
      ]
    },
    {
      "cell_type": "code",
      "source": [
        "def fn(a,b,c,d,e):\n",
        "    print(a,b,c,d,e)\n",
        "fn(1, 2, d=4, c=3, e=5)"
      ],
      "metadata": {
        "colab": {
          "base_uri": "https://localhost:8080/"
        },
        "id": "MXEL4zfO5nBM",
        "outputId": "92e8febd-0816-426b-b177-f17b9e37b1d6"
      },
      "execution_count": null,
      "outputs": [
        {
          "output_type": "stream",
          "name": "stdout",
          "text": [
            "1 2 3 4 5\n"
          ]
        }
      ]
    },
    {
      "cell_type": "code",
      "source": [
        "def min_max(*args):\n",
        "    min = args[0]\n",
        "    max = args[0]\n",
        "    for arg in args:\n",
        "        if min > arg:\n",
        "            min = arg\n",
        "        if max < arg:\n",
        "            max = arg\n",
        "    return min, max\n",
        "min, max = (min_max(52, -3, 23, 89, -21))\n",
        "print(f\"최소:{min} 최대:{max}\")"
      ],
      "metadata": {
        "colab": {
          "base_uri": "https://localhost:8080/"
        },
        "id": "owCzM9Ea6LY1",
        "outputId": "f59f9209-e002-4bc3-fe6e-798071b86e55"
      },
      "execution_count": null,
      "outputs": [
        {
          "output_type": "stream",
          "name": "stdout",
          "text": [
            "최소:-21 최대:89\n"
          ]
        }
      ]
    },
    {
      "cell_type": "code",
      "source": [
        "def reward_penalty(kind, points):\n",
        "    global current_point\n",
        "\n",
        "    print('현재점수 :', current_point)\n",
        "    if kind == '상점':\n",
        "        current_point += points\n",
        "    elif kind == '벌점':\n",
        "        current_point -= points\n",
        "\n",
        "current_point = 5\n",
        "\n",
        "reward_penalty('상점', 5)\n",
        "reward_penalty('벌점', 1)\n",
        "print('최종점수 :', current_point)"
      ],
      "metadata": {
        "colab": {
          "base_uri": "https://localhost:8080/"
        },
        "id": "xQGWtmXR7BWU",
        "outputId": "2b86911d-4156-43b2-97ff-74508455120d"
      },
      "execution_count": null,
      "outputs": [
        {
          "output_type": "stream",
          "name": "stdout",
          "text": [
            "현재점수 : 5\n",
            "현재점수 : 10\n",
            "최종점수 : 9\n"
          ]
        }
      ]
    },
    {
      "cell_type": "code",
      "source": [
        "file = open('basic.txt', 'w')\n",
        "file.write('Hello Python Programming')\n",
        "file.close()"
      ],
      "metadata": {
        "id": "Rrb7OJ-G7w_b"
      },
      "execution_count": null,
      "outputs": []
    },
    {
      "cell_type": "code",
      "source": [
        "with open('basic.txt', 'w') as file:\n",
        "    file.write('Hello Python Programming')"
      ],
      "metadata": {
        "id": "yV0ox3wb7yb0"
      },
      "execution_count": null,
      "outputs": []
    },
    {
      "cell_type": "code",
      "source": [
        "with open('basic.txt', 'r') as file:\n",
        "    contents = file.read()\n",
        "print(contents)"
      ],
      "metadata": {
        "colab": {
          "base_uri": "https://localhost:8080/"
        },
        "id": "se7SrQEk7yd8",
        "outputId": "9502b524-f52b-4bb7-97a7-c53feadd743b"
      },
      "execution_count": null,
      "outputs": [
        {
          "output_type": "stream",
          "name": "stdout",
          "text": [
            "Hello Python Programming\n"
          ]
        }
      ]
    },
    {
      "cell_type": "code",
      "source": [
        "class Character:\n",
        "    def __init__(self, name, hp, ad):\n",
        "        self.name = name\n",
        "        self.strength = hp\n",
        "        self.attack_damage = ad\n",
        "        print('객체 생성 :', self.name)\n",
        "\n",
        "    def information(self):\n",
        "            print('이름=>', self.name, ', 체력=>', self.strength, ', 공격력=>', self.attack_damage)\n",
        "\n",
        "    def attack(self, target):\n",
        "            print(f\"{self.name}이/가 {target.name}을 공격합니다!\")\n",
        "            target.strength -= self.attack_damage\n",
        "            print('공격성공!', target.name, '(남은체력 :', target.strength,')')"
      ],
      "metadata": {
        "id": "r_6_eYEKCChy"
      },
      "execution_count": null,
      "outputs": []
    },
    {
      "cell_type": "code",
      "source": [
        "swordsman = Character('검술사', 100, 10)\n",
        "fairy = Character('요정', 60, 5)\n",
        "thief = Character('도적', 85, 8)"
      ],
      "metadata": {
        "colab": {
          "base_uri": "https://localhost:8080/"
        },
        "id": "kBL1Trq1D92c",
        "outputId": "07ff0ae2-ff2d-447f-94b0-3e073bae022e"
      },
      "execution_count": null,
      "outputs": [
        {
          "output_type": "stream",
          "name": "stdout",
          "text": [
            "객체 생성 : 검술사\n",
            "객체 생성 : 요정\n",
            "객체 생성 : 도적\n"
          ]
        }
      ]
    },
    {
      "cell_type": "code",
      "source": [
        "swordsman.attack(fairy)\n",
        "\n",
        "thief.attack(fairy)"
      ],
      "metadata": {
        "colab": {
          "base_uri": "https://localhost:8080/"
        },
        "id": "FNt6svQbEMTJ",
        "outputId": "a63edbce-a91d-49c0-a5c5-702f75c12f2e"
      },
      "execution_count": null,
      "outputs": [
        {
          "output_type": "stream",
          "name": "stdout",
          "text": [
            "검술사이/가 요정을 공격합니다!\n",
            "공격성공! 요정 (남은체력 : 50 )\n",
            "도적이/가 요정을 공격합니다!\n",
            "공격성공! 요정 (남은체력 : 42 )\n"
          ]
        }
      ]
    },
    {
      "cell_type": "code",
      "source": [],
      "metadata": {
        "id": "JwxsVnYzEavZ"
      },
      "execution_count": null,
      "outputs": []
    }
  ]
}