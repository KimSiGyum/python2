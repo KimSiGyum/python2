{
  "nbformat": 4,
  "nbformat_minor": 0,
  "metadata": {
    "colab": {
      "provenance": [],
      "authorship_tag": "ABX9TyOtlq07Pu/5piJ7w6TrbKwn",
      "include_colab_link": true
    },
    "kernelspec": {
      "name": "python3",
      "display_name": "Python 3"
    },
    "language_info": {
      "name": "python"
    }
  },
  "cells": [
    {
      "cell_type": "markdown",
      "metadata": {
        "id": "view-in-github",
        "colab_type": "text"
      },
      "source": [
        "<a href=\"https://colab.research.google.com/github/KimSiGyum/python2/blob/main/%ED%81%B4%EB%9E%98%EC%8A%A4%EC%99%80_%EA%B0%9D%EC%B2%B4(20306%EA%B9%80%EC%8B%9C%EA%B2%B8_9_18).ipynb\" target=\"_parent\"><img src=\"https://colab.research.google.com/assets/colab-badge.svg\" alt=\"Open In Colab\"/></a>"
      ]
    },
    {
      "cell_type": "markdown",
      "source": [
        "1. 클래스\n",
        "- 각 개체가 지닌 공통적인 특징(속성,(변수)) + 기능(메소드(함수))을 모아둔 것\n",
        "- 설계도\n",
        "\n",
        "2. 객체\n",
        "- 클래스를 바탕으로 생성된 것, 클래스에 구체적인 값을 넣어서 구현함\n"
      ],
      "metadata": {
        "id": "Pnx3Dxq12WVQ"
      }
    },
    {
      "cell_type": "code",
      "execution_count": null,
      "metadata": {
        "id": "knWZl67g1YKR"
      },
      "outputs": [],
      "source": [
        "class Character:\n",
        "    #특징(변수)\n",
        "    #기능(메소드)\n",
        "    def hi():\n",
        "        print(\"안녕하세요\")"
      ]
    },
    {
      "cell_type": "code",
      "source": [
        "swordsman = Character()\n",
        "\n",
        "print(type(swordsman))\n",
        "\n",
        "fairy = Character()\n",
        "\n",
        "thief = Character()"
      ],
      "metadata": {
        "colab": {
          "base_uri": "https://localhost:8080/"
        },
        "id": "nKBfMFF83Hy3",
        "outputId": "21e186aa-24d4-45cc-da08-0cb9f25967cc"
      },
      "execution_count": null,
      "outputs": [
        {
          "output_type": "stream",
          "name": "stdout",
          "text": [
            "<class '__main__.Character'>\n"
          ]
        }
      ]
    },
    {
      "cell_type": "markdown",
      "source": [
        "객체의 속성이나 메소드에 접근하기\n",
        "- 객체이름.속성\n",
        "- 객체이름.메소드()"
      ],
      "metadata": {
        "id": "0OeZwPB84M0B"
      }
    },
    {
      "cell_type": "code",
      "source": [
        "swordsman.hi()"
      ],
      "metadata": {
        "colab": {
          "base_uri": "https://localhost:8080/",
          "height": 183
        },
        "id": "EuTDPXZb3H1n",
        "outputId": "ce5c4d41-bf81-4e58-b060-336b73805991"
      },
      "execution_count": null,
      "outputs": [
        {
          "output_type": "error",
          "ename": "TypeError",
          "evalue": "ignored",
          "traceback": [
            "\u001b[0;31m---------------------------------------------------------------------------\u001b[0m",
            "\u001b[0;31mTypeError\u001b[0m                                 Traceback (most recent call last)",
            "\u001b[0;32m<ipython-input-9-39123b82418f>\u001b[0m in \u001b[0;36m<cell line: 1>\u001b[0;34m()\u001b[0m\n\u001b[0;32m----> 1\u001b[0;31m \u001b[0mswordsman\u001b[0m\u001b[0;34m.\u001b[0m\u001b[0mhi\u001b[0m\u001b[0;34m(\u001b[0m\u001b[0;34m)\u001b[0m\u001b[0;34m\u001b[0m\u001b[0;34m\u001b[0m\u001b[0m\n\u001b[0m",
            "\u001b[0;31mTypeError\u001b[0m: Character.hi() takes 0 positional arguments but 1 was given"
          ]
        }
      ]
    },
    {
      "cell_type": "code",
      "source": [
        "class Character:\n",
        "    #특징(변수)\n",
        "    #기능(메소드)\n",
        "    def hi(self):\n",
        "        print(\"안녕하세요\")"
      ],
      "metadata": {
        "id": "soktOA9Q3H3_"
      },
      "execution_count": null,
      "outputs": []
    },
    {
      "cell_type": "code",
      "source": [
        "swordsman = Character()\n",
        "swordsman.hi()\n",
        "#print(type(swordsman))\n",
        "\n",
        "fairy = Character()\n",
        "fairy.hi()\n",
        "\n",
        "thief = Character()\n",
        "thief.hi()"
      ],
      "metadata": {
        "colab": {
          "base_uri": "https://localhost:8080/"
        },
        "id": "r_iO14HP3H6X",
        "outputId": "9747a3bb-37f3-4c36-8c93-3a2e927eb179"
      },
      "execution_count": null,
      "outputs": [
        {
          "output_type": "stream",
          "name": "stdout",
          "text": [
            "안녕하세요\n",
            "안녕하세요\n",
            "안녕하세요\n"
          ]
        }
      ]
    },
    {
      "cell_type": "code",
      "source": [
        "class Character:\n",
        "\n",
        "    def hi(self, name):\n",
        "        print(\"안녕! 난\",name)\n",
        "\n",
        "swordsman = Character()\n",
        "swordsman.hi(\"검술사\")"
      ],
      "metadata": {
        "colab": {
          "base_uri": "https://localhost:8080/"
        },
        "id": "ucOuzvrr3H83",
        "outputId": "2cb5f850-9120-4cd3-e6d4-4ef0ea4daa8b"
      },
      "execution_count": null,
      "outputs": [
        {
          "output_type": "stream",
          "name": "stdout",
          "text": [
            "안녕! 난 검술사\n"
          ]
        }
      ]
    },
    {
      "cell_type": "code",
      "source": [
        "class Character:\n",
        "    def hi(self, name):\n",
        "        print(\"안녕! 난\", name)\n",
        "    def attack(self, target):\n",
        "        print(target,'을 공격합니다!')\n",
        "\n",
        "swordsman = Character()\n",
        "swordsman.hi('검술사')\n",
        "swordsman.attack('도적')"
      ],
      "metadata": {
        "colab": {
          "base_uri": "https://localhost:8080/"
        },
        "id": "0XNmcjo63H_H",
        "outputId": "7b018725-be77-4018-e4cd-b1ca5d648419"
      },
      "execution_count": null,
      "outputs": [
        {
          "output_type": "stream",
          "name": "stdout",
          "text": [
            "안녕! 난 검술사\n",
            "도적 을 공격합니다!\n"
          ]
        }
      ]
    },
    {
      "cell_type": "code",
      "source": [
        "class Character:\n",
        "\n",
        "    def __init__(self, name, hp, ad):\n",
        "        self.name = name\n",
        "        self.strenght = hp\n",
        "        self.attack_damage = ad\n",
        "        print(\"Charater 클래스의 객체 생성 =>\", self.name)\n",
        "\n",
        "swordsman = Character('검술사', 100, 10)"
      ],
      "metadata": {
        "colab": {
          "base_uri": "https://localhost:8080/"
        },
        "id": "noMz3Y4q3IBq",
        "outputId": "8a4acc79-716f-4fa0-be76-1a013f1ba90d"
      },
      "execution_count": null,
      "outputs": [
        {
          "output_type": "stream",
          "name": "stdout",
          "text": [
            "Charater 클래스의 객체 생성 => 검술사\n"
          ]
        }
      ]
    },
    {
      "cell_type": "code",
      "source": [
        "class Character:\n",
        "\n",
        "    def __init__(self, name, hp, ad):\n",
        "        self.name = name\n",
        "        self.strenght = hp\n",
        "        self.attack_damage = ad\n",
        "        print(\"Charater 클래스의 객체 생성 =>\", self.name)\n",
        "    def information(self):\n",
        "        print(\"이름=>\",self.name, ', 체력=>', self.strenght, ', 공격력=>', self.attack_damage)\n",
        "\n",
        "    def attack(self, target):\n",
        "        print(f'{target}을 공격합니다.')\n",
        "\n",
        "\n",
        "swordsman = Character('검술사', 100, 10)\n",
        "swordsman.information()\n",
        "#swordsman.attack('도적')\n",
        "\n",
        "swordsman.strenght = 120\n",
        "swordsman.attack_damage = 15\n",
        "\n",
        "swordsman.information()"
      ],
      "metadata": {
        "colab": {
          "base_uri": "https://localhost:8080/"
        },
        "id": "hfnGhXbj3IEH",
        "outputId": "4aca5f22-d308-481f-b0d9-8cd259097d2c"
      },
      "execution_count": null,
      "outputs": [
        {
          "output_type": "stream",
          "name": "stdout",
          "text": [
            "Charater 클래스의 객체 생성 => 검술사\n",
            "이름=> 검술사 , 체력=> 100 , 공격력=> 10\n",
            "이름=> 검술사 , 체력=> 120 , 공격력=> 15\n"
          ]
        }
      ]
    },
    {
      "cell_type": "code",
      "source": [
        "class Character:\n",
        "\n",
        "    def __init__(self, name, hp, ad):\n",
        "        self.name = name\n",
        "        self.strenght = hp\n",
        "        self.attack_damage = ad\n",
        "        print(\"Charater 클래스의 객체 생성 =>\", self.name)\n",
        "    def information(self):\n",
        "        print(\"이름=>\",self.name, ', 체력=>', self.strenght, ', 공격력=>', self.attack_damage)\n",
        "\n",
        "    def attack(self, target):\n",
        "        print(f'{self.name} 이/가 {target.name}을 공격합니다.')\n",
        "        target.strenght -= self.attack_damage\n",
        "        print(f\"공격성공 {target.name} ({target.strenght})\")\n",
        "\n",
        "swordsman = Character('검술사', 100, 10)\n",
        "fairy = Character(\"요정\", 60, 5)\n",
        "thief = Character(\"도적\", 85, 8)\n",
        "swordsman.attack(fairy)\n"
      ],
      "metadata": {
        "colab": {
          "base_uri": "https://localhost:8080/"
        },
        "id": "PeSXl6a23IGP",
        "outputId": "d5a95c45-6553-4784-ecdb-6bb7b93d3c44"
      },
      "execution_count": null,
      "outputs": [
        {
          "output_type": "stream",
          "name": "stdout",
          "text": [
            "Charater 클래스의 객체 생성 => 검술사\n",
            "Charater 클래스의 객체 생성 => 요정\n",
            "Charater 클래스의 객체 생성 => 도적\n",
            "검술사 이/가 요정을 공격합니다.\n",
            "공격성공 요정 (50)\n"
          ]
        }
      ]
    },
    {
      "cell_type": "code",
      "source": [],
      "metadata": {
        "id": "V0sFSdJb3II_"
      },
      "execution_count": null,
      "outputs": []
    },
    {
      "cell_type": "code",
      "source": [],
      "metadata": {
        "id": "_QybTrAx3INf"
      },
      "execution_count": null,
      "outputs": []
    }
  ]
}