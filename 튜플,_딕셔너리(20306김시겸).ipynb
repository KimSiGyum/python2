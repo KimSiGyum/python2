{
  "nbformat": 4,
  "nbformat_minor": 0,
  "metadata": {
    "colab": {
      "provenance": [],
      "authorship_tag": "ABX9TyNhddyFMYH+e54Rvn43sx2W",
      "include_colab_link": true
    },
    "kernelspec": {
      "name": "python3",
      "display_name": "Python 3"
    },
    "language_info": {
      "name": "python"
    }
  },
  "cells": [
    {
      "cell_type": "markdown",
      "metadata": {
        "id": "view-in-github",
        "colab_type": "text"
      },
      "source": [
        "<a href=\"https://colab.research.google.com/github/KimSiGyum/python2/blob/main/%ED%8A%9C%ED%94%8C%2C_%EB%94%95%EC%85%94%EB%84%88%EB%A6%AC(20306%EA%B9%80%EC%8B%9C%EA%B2%B8).ipynb\" target=\"_parent\"><img src=\"https://colab.research.google.com/assets/colab-badge.svg\" alt=\"Open In Colab\"/></a>"
      ]
    },
    {
      "cell_type": "markdown",
      "source": [
        "### 튜플\n",
        "- 수정이 불가능한 자료들의 묶음\n",
        "- (요소1, 요소2, ...)\n"
      ],
      "metadata": {
        "id": "nxEePLDeW7wp"
      }
    },
    {
      "cell_type": "code",
      "source": [
        "t1 = ()\n",
        "t2 = (1, )\n",
        "t3 = (1,2,3)\n",
        "t4 = 1,2,3\n",
        "t5 = ('a', 'b', ('ab', 'cd'))\n",
        "print(t1)\n",
        "print(t2)\n",
        "print(t3)\n",
        "print(t4)\n",
        "print(t5)"
      ],
      "metadata": {
        "colab": {
          "base_uri": "https://localhost:8080/"
        },
        "id": "P8V7t0HEVNI8",
        "outputId": "632f9474-de97-4a89-dc6d-7578ec756063"
      },
      "execution_count": null,
      "outputs": [
        {
          "output_type": "stream",
          "name": "stdout",
          "text": [
            "()\n",
            "(1,)\n",
            "(1, 2, 3)\n",
            "(1, 2, 3)\n",
            "('a', 'b', ('ab', 'cd'))\n"
          ]
        }
      ]
    },
    {
      "cell_type": "code",
      "source": [
        "tu = 2\n",
        "print(type(tu))\n",
        "print(tu)"
      ],
      "metadata": {
        "colab": {
          "base_uri": "https://localhost:8080/"
        },
        "id": "1qqK7kd4VNK5",
        "outputId": "a9709b9c-7162-47c6-cae3-cda3993c7482"
      },
      "execution_count": null,
      "outputs": [
        {
          "output_type": "stream",
          "name": "stdout",
          "text": [
            "<class 'int'>\n",
            "2\n"
          ]
        }
      ]
    },
    {
      "cell_type": "code",
      "source": [
        "tu = 2,\n",
        "print(type(tu))\n",
        "print(tu)"
      ],
      "metadata": {
        "colab": {
          "base_uri": "https://localhost:8080/"
        },
        "id": "yVOHNu8XVNPi",
        "outputId": "99bb14f2-5188-4804-d94c-cb363d1e262d"
      },
      "execution_count": null,
      "outputs": [
        {
          "output_type": "stream",
          "name": "stdout",
          "text": [
            "<class 'tuple'>\n",
            "(2,)\n"
          ]
        }
      ]
    },
    {
      "cell_type": "code",
      "source": [
        "tu = 1, 2, 3, 4, 5\n",
        "\n",
        "print(tu[2])\n",
        "print(tu[1:4])\n",
        "print(tu + (6, 7))\n",
        "print(tu * 2)\n"
      ],
      "metadata": {
        "colab": {
          "base_uri": "https://localhost:8080/"
        },
        "id": "cq4xbYKzVNRz",
        "outputId": "3dd36e07-834d-482a-d865-60895212a9cf"
      },
      "execution_count": null,
      "outputs": [
        {
          "output_type": "stream",
          "name": "stdout",
          "text": [
            "3\n",
            "(2, 3, 4)\n",
            "(1, 2, 3, 4, 5, 6, 7)\n",
            "(1, 2, 3, 4, 5, 1, 2, 3, 4, 5)\n"
          ]
        }
      ]
    },
    {
      "cell_type": "code",
      "source": [
        "tu[1] = 20\n",
        "print(tu)"
      ],
      "metadata": {
        "colab": {
          "base_uri": "https://localhost:8080/",
          "height": 203
        },
        "id": "m2sq3k4pVNUS",
        "outputId": "fe13a4c3-7020-4fdd-d481-e946094f8e66"
      },
      "execution_count": null,
      "outputs": [
        {
          "output_type": "error",
          "ename": "TypeError",
          "evalue": "ignored",
          "traceback": [
            "\u001b[0;31m---------------------------------------------------------------------------\u001b[0m",
            "\u001b[0;31mTypeError\u001b[0m                                 Traceback (most recent call last)",
            "\u001b[0;32m<ipython-input-13-7470a3fa1088>\u001b[0m in \u001b[0;36m<cell line: 1>\u001b[0;34m()\u001b[0m\n\u001b[0;32m----> 1\u001b[0;31m \u001b[0mtu\u001b[0m\u001b[0;34m[\u001b[0m\u001b[0;36m1\u001b[0m\u001b[0;34m]\u001b[0m \u001b[0;34m=\u001b[0m \u001b[0;36m20\u001b[0m\u001b[0;34m\u001b[0m\u001b[0;34m\u001b[0m\u001b[0m\n\u001b[0m\u001b[1;32m      2\u001b[0m \u001b[0mprint\u001b[0m\u001b[0;34m(\u001b[0m\u001b[0mtu\u001b[0m\u001b[0;34m)\u001b[0m\u001b[0;34m\u001b[0m\u001b[0;34m\u001b[0m\u001b[0m\n",
            "\u001b[0;31mTypeError\u001b[0m: 'tuple' object does not support item assignment"
          ]
        }
      ]
    },
    {
      "cell_type": "markdown",
      "source": [
        "### 여러개의 변수에 값을 한꺼번에 저장할떄 튜플을 사용"
      ],
      "metadata": {
        "id": "7i6AzUceZ6x5"
      }
    },
    {
      "cell_type": "code",
      "source": [
        "tu = '이순신', '김유신', '강감찬'\n",
        "print(tu)\n",
        "lee, kim, kang = tu\n",
        "print(lee)\n",
        "print(kim)\n",
        "print(kang)"
      ],
      "metadata": {
        "colab": {
          "base_uri": "https://localhost:8080/"
        },
        "id": "fjEzB5GWVNWa",
        "outputId": "e143f917-4a1a-45e5-b76d-7a982949a8ec"
      },
      "execution_count": null,
      "outputs": [
        {
          "output_type": "stream",
          "name": "stdout",
          "text": [
            "('이순신', '김유신', '강감찬')\n",
            "이순신\n",
            "김유신\n",
            "강감찬\n"
          ]
        }
      ]
    },
    {
      "cell_type": "code",
      "source": [
        "#swap\n",
        "a = 12\n",
        "b = 34\n",
        "\n",
        "print(a, b)\n",
        "c = a\n",
        "a = b\n",
        "b = c\n",
        "print(a, b)"
      ],
      "metadata": {
        "colab": {
          "base_uri": "https://localhost:8080/"
        },
        "id": "2r--Oo_2VNY6",
        "outputId": "ad150c47-4329-46cf-d781-abedf8b88eb7"
      },
      "execution_count": null,
      "outputs": [
        {
          "output_type": "stream",
          "name": "stdout",
          "text": [
            "12 34\n",
            "34 12\n"
          ]
        }
      ]
    },
    {
      "cell_type": "code",
      "source": [
        "a, b = 12, 34\n",
        "print(a, b)\n",
        "a, b = 34, 12\n",
        "print(a, b)\n"
      ],
      "metadata": {
        "colab": {
          "base_uri": "https://localhost:8080/"
        },
        "id": "h-glZLsqVNdq",
        "outputId": "c64bfbd2-9f18-48d9-ac10-a213253bbecd"
      },
      "execution_count": null,
      "outputs": [
        {
          "output_type": "stream",
          "name": "stdout",
          "text": [
            "12 34\n",
            "34 12\n"
          ]
        }
      ]
    },
    {
      "cell_type": "code",
      "source": [
        "d, m = divmod(7, 3)\n",
        "print('몫: ', d)\n",
        "print('나머지: ', m)"
      ],
      "metadata": {
        "colab": {
          "base_uri": "https://localhost:8080/"
        },
        "id": "2ghBn4ahVNgC",
        "outputId": "2de83e91-1f79-4059-951c-1dfc14a4ec6c"
      },
      "execution_count": null,
      "outputs": [
        {
          "output_type": "stream",
          "name": "stdout",
          "text": [
            "몫:  2\n",
            "나머지:  1\n"
          ]
        }
      ]
    },
    {
      "cell_type": "code",
      "source": [
        "d = 7 // 3\n",
        "m = 7 % 3\n",
        "print(d, m)"
      ],
      "metadata": {
        "colab": {
          "base_uri": "https://localhost:8080/"
        },
        "id": "4mO1WB5bVNib",
        "outputId": "c55a7d50-23eb-47d2-9fa3-b2ec4b1a44cd"
      },
      "execution_count": null,
      "outputs": [
        {
          "output_type": "stream",
          "name": "stdout",
          "text": [
            "2 1\n"
          ]
        }
      ]
    },
    {
      "cell_type": "code",
      "source": [
        "score = [88, 95, 70, 100, 99]\n",
        "tu = tuple(score)\n",
        "#tu[0] = 100\n",
        "print(tu)\n",
        "\n",
        "li = list(tu)\n",
        "li[0] = 100\n",
        "print(li)"
      ],
      "metadata": {
        "colab": {
          "base_uri": "https://localhost:8080/"
        },
        "id": "nX4nhggeVNkl",
        "outputId": "f17b5930-8a63-4e97-933c-abf7dbdb9cee"
      },
      "execution_count": null,
      "outputs": [
        {
          "output_type": "stream",
          "name": "stdout",
          "text": [
            "(88, 95, 70, 100, 99)\n",
            "[100, 95, 70, 100, 99]\n"
          ]
        }
      ]
    },
    {
      "cell_type": "markdown",
      "source": [
        "### 딕셔너리(사전)\n",
        "- {키1 : 값1, 키2 : 값2, ...}"
      ],
      "metadata": {
        "id": "GyojOfa8g3lP"
      }
    },
    {
      "cell_type": "code",
      "source": [
        "dic = {'boy' : '소년', 'school' : '학교', 'book' : '책'}\n",
        "print(dic)\n",
        "print(type(dic))"
      ],
      "metadata": {
        "colab": {
          "base_uri": "https://localhost:8080/"
        },
        "id": "XwSCqCUbVN5C",
        "outputId": "ce26039d-ac84-4d78-e1b2-73def8ebdcbb"
      },
      "execution_count": null,
      "outputs": [
        {
          "output_type": "stream",
          "name": "stdout",
          "text": [
            "{'boy': '소년', 'school': '학교', 'book': '책'}\n",
            "<class 'dict'>\n"
          ]
        }
      ]
    },
    {
      "cell_type": "code",
      "source": [
        "print(dic['boy'])\n",
        "print(dic['book'])\n",
        "\n",
        "print(dic['girl'])"
      ],
      "metadata": {
        "colab": {
          "base_uri": "https://localhost:8080/",
          "height": 258
        },
        "id": "z3UJVWamVN78",
        "outputId": "00616603-fd42-48ec-c5e7-122ee4457f4e"
      },
      "execution_count": null,
      "outputs": [
        {
          "output_type": "stream",
          "name": "stdout",
          "text": [
            "소년\n",
            "책\n"
          ]
        },
        {
          "output_type": "error",
          "ename": "KeyError",
          "evalue": "ignored",
          "traceback": [
            "\u001b[0;31m---------------------------------------------------------------------------\u001b[0m",
            "\u001b[0;31mKeyError\u001b[0m                                  Traceback (most recent call last)",
            "\u001b[0;32m<ipython-input-34-61fd212600cc>\u001b[0m in \u001b[0;36m<cell line: 4>\u001b[0;34m()\u001b[0m\n\u001b[1;32m      2\u001b[0m \u001b[0mprint\u001b[0m\u001b[0;34m(\u001b[0m\u001b[0mdic\u001b[0m\u001b[0;34m[\u001b[0m\u001b[0;34m'book'\u001b[0m\u001b[0;34m]\u001b[0m\u001b[0;34m)\u001b[0m\u001b[0;34m\u001b[0m\u001b[0;34m\u001b[0m\u001b[0m\n\u001b[1;32m      3\u001b[0m \u001b[0;34m\u001b[0m\u001b[0m\n\u001b[0;32m----> 4\u001b[0;31m \u001b[0mprint\u001b[0m\u001b[0;34m(\u001b[0m\u001b[0mdic\u001b[0m\u001b[0;34m[\u001b[0m\u001b[0;34m'girl'\u001b[0m\u001b[0;34m]\u001b[0m\u001b[0;34m)\u001b[0m\u001b[0;34m\u001b[0m\u001b[0;34m\u001b[0m\u001b[0m\n\u001b[0m",
            "\u001b[0;31mKeyError\u001b[0m: 'girl'"
          ]
        }
      ]
    },
    {
      "cell_type": "code",
      "source": [
        "dic = {'boy' : '소년', 'school' : '학교', 'book' : '책'}\n",
        "#수정\n",
        "dic['boy'] = '남자아이'\n",
        "print(dic)\n",
        "#추가\n",
        "dic['girl'] = '여자아이'\n",
        "print(dic)"
      ],
      "metadata": {
        "colab": {
          "base_uri": "https://localhost:8080/"
        },
        "id": "DvRBhSYKVN-K",
        "outputId": "e2539990-8474-45ab-b0f5-b2b681a9ff0f"
      },
      "execution_count": null,
      "outputs": [
        {
          "output_type": "stream",
          "name": "stdout",
          "text": [
            "{'boy': '남자아이', 'school': '학교', 'book': '책'}\n",
            "{'boy': '남자아이', 'school': '학교', 'book': '책', 'girl': '여자아이'}\n"
          ]
        }
      ]
    },
    {
      "cell_type": "code",
      "source": [
        "#삭제 => del\n",
        "dic = {'boy': '남자아이', 'school': '학교', 'book': '책', 'girl': '여자아이'}\n",
        "\n",
        "del dic['book']\n",
        "print(dic)\n",
        "del dic['boy']\n",
        "print(dic)"
      ],
      "metadata": {
        "colab": {
          "base_uri": "https://localhost:8080/"
        },
        "id": "vgg_8HlLiqZ2",
        "outputId": "7b97b284-08ae-4121-a9d0-d7fcb28358b3"
      },
      "execution_count": null,
      "outputs": [
        {
          "output_type": "stream",
          "name": "stdout",
          "text": [
            "{'boy': '남자아이', 'school': '학교', 'girl': '여자아이'}\n",
            "{'school': '학교', 'girl': '여자아이'}\n"
          ]
        }
      ]
    },
    {
      "cell_type": "code",
      "source": [
        "dictionary = {\n",
        "    'name' : '7D 건조 망고',\n",
        "    'type' : '당절임',\n",
        "    'ingredient' : ['망고', '설탕', '메타중아황산나트륨', '치자황색소'],\n",
        "    'origin' : '필리핀'\n",
        "}\n",
        "print(dictionary)"
      ],
      "metadata": {
        "colab": {
          "base_uri": "https://localhost:8080/"
        },
        "id": "r-7Vi9KPiqcH",
        "outputId": "2689fc14-69a8-43ca-cfc8-d7a1fb4adb1e"
      },
      "execution_count": null,
      "outputs": [
        {
          "output_type": "stream",
          "name": "stdout",
          "text": [
            "{'name': '7D 건조 망고', 'type': '당절임', 'ingredient': ['망고', '설탕', '메타중아황산나트륨', '치자황색소'], 'origin': '필리핀'}\n"
          ]
        }
      ]
    },
    {
      "cell_type": "code",
      "source": [
        "print('name:', dictionary['name'])\n",
        "print('type:', dictionary['type'])\n",
        "print('ingredient:', dictionary['ingredient'])\n",
        "print('origin:', dictionary['origin'])"
      ],
      "metadata": {
        "colab": {
          "base_uri": "https://localhost:8080/"
        },
        "id": "_ojfTABciqeX",
        "outputId": "fede0c0e-1c39-4715-c37f-8a27e0789ca3"
      },
      "execution_count": null,
      "outputs": [
        {
          "output_type": "stream",
          "name": "stdout",
          "text": [
            "name: 7D 건조 망고\n",
            "type: 당절임\n",
            "ingredient: ['망고', '설탕', '메타중아황산나트륨', '치자황색소']\n",
            "origin: 필리핀\n"
          ]
        }
      ]
    },
    {
      "cell_type": "code",
      "source": [
        "dictionary['name'] = '8D 건조 망고'\n",
        "del dictionary['ingredient']\n",
        "dictionary['price'] = 5000\n",
        "print(dictionary)"
      ],
      "metadata": {
        "colab": {
          "base_uri": "https://localhost:8080/"
        },
        "id": "NW7eVANFiqgw",
        "outputId": "1c05da89-8f49-4802-d9d2-d42381aabcff"
      },
      "execution_count": null,
      "outputs": [
        {
          "output_type": "stream",
          "name": "stdout",
          "text": [
            "{'name': '8D 건조 망고', 'type': '당절임', 'origin': '필리핀', 'price': 5000}\n"
          ]
        }
      ]
    },
    {
      "cell_type": "code",
      "source": [
        "animation = {}\n",
        "\n",
        "print('요소 추가 이전:', animation)\n",
        "\n",
        "animation['작가'] = '황미나'\n",
        "animation['연재작'] = '이오니아의 푸른 별'\n",
        "animation['최근작'] = '보톡스'\n",
        "print('요소 추가 이후:', animation)\n",
        "\n",
        "del animation['연재작']\n",
        "print('요소 제거 이후:', animation)"
      ],
      "metadata": {
        "colab": {
          "base_uri": "https://localhost:8080/"
        },
        "id": "HlHv5_F0iqjX",
        "outputId": "f6e8edd8-ec0d-4512-ac35-dc68c5bddb12"
      },
      "execution_count": null,
      "outputs": [
        {
          "output_type": "stream",
          "name": "stdout",
          "text": [
            "요소 추가 이전: {}\n",
            "요소 추가 이후: {'작가': '황미나', '연재작': '이오니아의 푸른 별', '최근작': '보톡스'}\n",
            "요소 제거 이후: {'작가': '황미나', '최근작': '보톡스'}\n"
          ]
        }
      ]
    },
    {
      "cell_type": "code",
      "source": [
        "rainbow = {'빨강' : 'red', '주황' : 'orange', '노' : 'yellow', '초' : 'green', '파' : 'blue', '남' : 'navy', '보' : 'purple'}\n",
        "\n",
        "print('초록색=', rainbow['초'])\n",
        "\n",
        "rainbow['횐'] = 'white'\n",
        "rainbow['주황'] = 'juhwang'\n",
        "del rainbow['파']\n",
        "\n",
        "print(rainbow)"
      ],
      "metadata": {
        "colab": {
          "base_uri": "https://localhost:8080/"
        },
        "id": "kbcVgzLqiqky",
        "outputId": "56071790-67dc-42f4-a797-2f19f0d499e1"
      },
      "execution_count": null,
      "outputs": [
        {
          "output_type": "stream",
          "name": "stdout",
          "text": [
            "초록색= green\n",
            "{'빨강': 'red', '주황': 'juhwang', '노': 'yellow', '초': 'green', '남': 'navy', '보': 'purple', '횐': 'white'}\n"
          ]
        }
      ]
    },
    {
      "cell_type": "code",
      "source": [
        "li = [['boy', '소년'], ['school', '학교'], ['book', '책']]\n",
        "dic = dict(li)\n",
        "print(dic)"
      ],
      "metadata": {
        "colab": {
          "base_uri": "https://localhost:8080/"
        },
        "id": "WVvNtlYXiqm_",
        "outputId": "2a03b38a-8244-4b96-ed9c-87f4f40d1d91"
      },
      "execution_count": null,
      "outputs": [
        {
          "output_type": "stream",
          "name": "stdout",
          "text": [
            "{'boy': '소년', 'school': '학교', 'book': '책'}\n"
          ]
        }
      ]
    },
    {
      "cell_type": "code",
      "source": [
        "dic = {'boy':'소년', 'school':'학교', 'book':'책'}\n",
        "print(dic.keys())\n",
        "print(dic.values())\n",
        "print(dic.items())"
      ],
      "metadata": {
        "colab": {
          "base_uri": "https://localhost:8080/"
        },
        "id": "l8e8U0Kriqpf",
        "outputId": "da9fc68b-a7d2-4b96-8722-5fe746e27b1c"
      },
      "execution_count": null,
      "outputs": [
        {
          "output_type": "stream",
          "name": "stdout",
          "text": [
            "dict_keys(['boy', 'school', 'book'])\n",
            "dict_values(['소년', '학교', '책'])\n",
            "dict_items([('boy', '소년'), ('school', '학교'), ('book', '책')])\n"
          ]
        }
      ]
    },
    {
      "cell_type": "code",
      "source": [
        "dic = {'boy':'소년', 'school':'학교', 'book':'책'}\n",
        "print(dic['boy'])\n",
        "print(dic.get('boy'))\n",
        "#print(dic['gril'])\n",
        "print(dic.get('gril'))\n",
        "print(dic.get('student', '사전에 없는 단어입니다.'))"
      ],
      "metadata": {
        "colab": {
          "base_uri": "https://localhost:8080/"
        },
        "id": "5ol_1ukiiqrn",
        "outputId": "f30c10f0-d81e-4f48-cd05-cbb9849d63e9"
      },
      "execution_count": null,
      "outputs": [
        {
          "output_type": "stream",
          "name": "stdout",
          "text": [
            "소년\n",
            "소년\n",
            "None\n",
            "사전에 없는 단어입니다.\n"
          ]
        }
      ]
    },
    {
      "cell_type": "code",
      "source": [
        "#딕셔너리 업데이트 => 키가 있으면 수정, 없으면 추가\n",
        "dic = {'boy':'소년', 'school':'학교', 'book':'책'}\n",
        "dic2 = {'student':'학생', 'teacher':'선생님', 'book':'서적'}\n",
        "dic.update(dic2)\n",
        "print(dic)"
      ],
      "metadata": {
        "colab": {
          "base_uri": "https://localhost:8080/"
        },
        "id": "xpSiUwLxiqt_",
        "outputId": "ce4831f0-4afb-4c61-a965-5ebfd382285f"
      },
      "execution_count": null,
      "outputs": [
        {
          "output_type": "stream",
          "name": "stdout",
          "text": [
            "{'boy': '소년', 'school': '학교', 'book': '서적', 'student': '학생', 'teacher': '선생님'}\n"
          ]
        }
      ]
    },
    {
      "cell_type": "code",
      "source": [
        "dic = {'boy':'소년', 'school':'학교', 'book':'책'}\n",
        "dic.update(student='학생', boy='남자아이')\n",
        "print(dic)"
      ],
      "metadata": {
        "colab": {
          "base_uri": "https://localhost:8080/"
        },
        "id": "jrsahmGQiqwg",
        "outputId": "ceb587d1-9e8c-472d-b36d-5ac766f1127b"
      },
      "execution_count": null,
      "outputs": [
        {
          "output_type": "stream",
          "name": "stdout",
          "text": [
            "{'boy': '남자아이', 'school': '학교', 'book': '책', 'student': '학생'}\n"
          ]
        }
      ]
    },
    {
      "cell_type": "code",
      "source": [],
      "metadata": {
        "id": "FPGwoPoMVOAw"
      },
      "execution_count": null,
      "outputs": []
    }
  ]
}