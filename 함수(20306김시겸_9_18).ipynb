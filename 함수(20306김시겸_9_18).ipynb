{
  "nbformat": 4,
  "nbformat_minor": 0,
  "metadata": {
    "colab": {
      "provenance": [],
      "authorship_tag": "ABX9TyMsukgdmKmJng/Kaq+Bgh35",
      "include_colab_link": true
    },
    "kernelspec": {
      "name": "python3",
      "display_name": "Python 3"
    },
    "language_info": {
      "name": "python"
    }
  },
  "cells": [
    {
      "cell_type": "markdown",
      "metadata": {
        "id": "view-in-github",
        "colab_type": "text"
      },
      "source": [
        "<a href=\"https://colab.research.google.com/github/KimSiGyum/python2/blob/main/%ED%95%A8%EC%88%98(20306%EA%B9%80%EC%8B%9C%EA%B2%B8_9_18).ipynb\" target=\"_parent\"><img src=\"https://colab.research.google.com/assets/colab-badge.svg\" alt=\"Open In Colab\"/></a>"
      ]
    },
    {
      "cell_type": "markdown",
      "source": [
        "* 사용자 정의함수\n",
        "\n",
        "1) 함수 정의(선언)\n",
        "- def 함수명() :\n",
        "\n",
        "2) 함수 호출(call)\n",
        "- 함수명()"
      ],
      "metadata": {
        "id": "GYXVjpZhqbpN"
      }
    },
    {
      "cell_type": "code",
      "source": [
        "#함수 정의\n",
        "def Hi():\n",
        "    print(\"Hello World\")\n",
        "\n",
        "#함수 호출\n",
        "Hi()"
      ],
      "metadata": {
        "colab": {
          "base_uri": "https://localhost:8080/"
        },
        "id": "vhAwlsjwqzzl",
        "outputId": "668c95d2-5743-456d-e1ef-1c66a21f1a79"
      },
      "execution_count": null,
      "outputs": [
        {
          "output_type": "stream",
          "name": "stdout",
          "text": [
            "Hello World\n"
          ]
        }
      ]
    },
    {
      "cell_type": "code",
      "source": [
        "def triangle():\n",
        "    for i in range(5):\n",
        "        for j in range(i+1):\n",
        "            print('*', end='')\n",
        "        print()\n",
        "triangle()"
      ],
      "metadata": {
        "colab": {
          "base_uri": "https://localhost:8080/"
        },
        "id": "KHRqKA7WrE0N",
        "outputId": "3589b073-ee80-4683-a2d1-ce57da561e15"
      },
      "execution_count": null,
      "outputs": [
        {
          "output_type": "stream",
          "name": "stdout",
          "text": [
            "*\n",
            "**\n",
            "***\n",
            "****\n",
            "*****\n"
          ]
        }
      ]
    },
    {
      "cell_type": "code",
      "source": [
        "def hello(매개1, 매개2):\n",
        "    print(매개1)\n",
        "    print(매개2)\n",
        "\n",
        "hello(1, 2)"
      ],
      "metadata": {
        "colab": {
          "base_uri": "https://localhost:8080/"
        },
        "id": "afAgjd-Lsbsl",
        "outputId": "524805fa-1d33-4201-9171-e126d9647820"
      },
      "execution_count": null,
      "outputs": [
        {
          "output_type": "stream",
          "name": "stdout",
          "text": [
            "1\n",
            "2\n"
          ]
        }
      ]
    },
    {
      "cell_type": "code",
      "source": [
        "def name(name):\n",
        "    print(f\"내 이름은 {name}야. 만나서 반가워\")\n",
        "\n",
        "name(\"채송화\")\n",
        "name(\"아이유\")"
      ],
      "metadata": {
        "colab": {
          "base_uri": "https://localhost:8080/"
        },
        "id": "yy7VzYfTsbvG",
        "outputId": "c093b1eb-6113-4cbd-c2e5-cc46b979bee0"
      },
      "execution_count": null,
      "outputs": [
        {
          "output_type": "stream",
          "name": "stdout",
          "text": [
            "내 이름은 채송화야. 만나서 반가워\n",
            "내 이름은 아이유야. 만나서 반가워\n"
          ]
        }
      ]
    },
    {
      "cell_type": "code",
      "source": [
        "def even(a):\n",
        "    if a%2 == 0:\n",
        "        print(\"짝수\")\n",
        "    else:\n",
        "        print(\"홀수\")\n",
        "even(11)"
      ],
      "metadata": {
        "colab": {
          "base_uri": "https://localhost:8080/"
        },
        "id": "TMwEDvxpsbxt",
        "outputId": "a9536ea7-d6f2-441b-ead7-595fc6477ded"
      },
      "execution_count": null,
      "outputs": [
        {
          "output_type": "stream",
          "name": "stdout",
          "text": [
            "홀수\n"
          ]
        }
      ]
    },
    {
      "cell_type": "code",
      "source": [
        "def triangle(a):\n",
        "    for i in range(a):\n",
        "        for j in range(i+1):\n",
        "            print('*', end='')\n",
        "        print()\n",
        "triangle(3)"
      ],
      "metadata": {
        "colab": {
          "base_uri": "https://localhost:8080/"
        },
        "id": "gbiPQ5afsb2l",
        "outputId": "aa6a1773-bff7-48c9-e9a3-c262527aa119"
      },
      "execution_count": null,
      "outputs": [
        {
          "output_type": "stream",
          "name": "stdout",
          "text": [
            "*\n",
            "**\n",
            "***\n"
          ]
        }
      ]
    },
    {
      "cell_type": "code",
      "source": [
        "def print_n_times(value, n):\n",
        "    for i in range(n):\n",
        "        print(value)\n",
        "\n",
        "print_n_times(\"안녕하세요\", 2)\n",
        "print_n_times(\"반가워요\", 3)"
      ],
      "metadata": {
        "colab": {
          "base_uri": "https://localhost:8080/"
        },
        "id": "3UL0vO_DscA-",
        "outputId": "8a560ba6-6c24-404b-d407-c6c8765149d6"
      },
      "execution_count": null,
      "outputs": [
        {
          "output_type": "stream",
          "name": "stdout",
          "text": [
            "안녕하세요\n",
            "안녕하세요\n",
            "반가워요\n",
            "반가워요\n",
            "반가워요\n"
          ]
        }
      ]
    },
    {
      "cell_type": "code",
      "source": [
        "def avg(a, b, c):\n",
        "    sum = a+b+c\n",
        "    print(sum/3)\n",
        "\n",
        "avg(3,5,10)"
      ],
      "metadata": {
        "colab": {
          "base_uri": "https://localhost:8080/"
        },
        "id": "XErYna5hubMV",
        "outputId": "704f1a59-a9f6-4070-86f9-2a8df79fab20"
      },
      "execution_count": null,
      "outputs": [
        {
          "output_type": "stream",
          "name": "stdout",
          "text": [
            "6.0\n"
          ]
        }
      ]
    },
    {
      "cell_type": "code",
      "source": [
        "import random\n",
        "\n",
        "def dice_n_times(n):\n",
        "    for i in range(n):\n",
        "        k = random.randint(1,6)\n",
        "        print(i+1, \"번째 주사위 굴린 결과: \", k)\n",
        "\n",
        "dice_n_times(6)"
      ],
      "metadata": {
        "colab": {
          "base_uri": "https://localhost:8080/"
        },
        "id": "lugomes2ubOk",
        "outputId": "966e89d8-c4e5-4532-ca60-be56d2982b53"
      },
      "execution_count": null,
      "outputs": [
        {
          "output_type": "stream",
          "name": "stdout",
          "text": [
            "1 번째 주사위 굴린 결과:  6\n",
            "2 번째 주사위 굴린 결과:  6\n",
            "3 번째 주사위 굴린 결과:  3\n",
            "4 번째 주사위 굴린 결과:  4\n",
            "5 번째 주사위 굴린 결과:  5\n",
            "6 번째 주사위 굴린 결과:  6\n"
          ]
        }
      ]
    },
    {
      "cell_type": "code",
      "source": [
        "def intsum(*ints):\n",
        "    sum =0\n",
        "    for i in ints:\n",
        "        sum += i\n",
        "    return sum\n",
        "\n",
        "print(intsum(1,2,3))\n",
        "print(intsum(5,7,9,11,13))\n",
        "print(intsum(8,9,6,2,9,7,5,8))"
      ],
      "metadata": {
        "id": "iYliBcrrubRM",
        "colab": {
          "base_uri": "https://localhost:8080/"
        },
        "outputId": "4e9b9561-bb78-4928-f809-dd17078232c3"
      },
      "execution_count": null,
      "outputs": [
        {
          "output_type": "stream",
          "name": "stdout",
          "text": [
            "6\n",
            "45\n",
            "54\n"
          ]
        }
      ]
    },
    {
      "cell_type": "code",
      "source": [
        "def print_n_times(n, *values):\n",
        "    for i in range(n):\n",
        "        for value in values:\n",
        "            print(value, end = ' ')\n",
        "        print()\n",
        "\n",
        "print_n_times(3, \"안녕하세요\", \"즐거운\", \"파이썬\")"
      ],
      "metadata": {
        "id": "58FzhZslubT0",
        "colab": {
          "base_uri": "https://localhost:8080/"
        },
        "outputId": "9fe10466-0f9a-4c7f-d918-32e1d85a4963"
      },
      "execution_count": null,
      "outputs": [
        {
          "output_type": "stream",
          "name": "stdout",
          "text": [
            "안녕하세요 즐거운 파이썬 \n",
            "안녕하세요 즐거운 파이썬 \n",
            "안녕하세요 즐거운 파이썬 \n"
          ]
        }
      ]
    },
    {
      "cell_type": "code",
      "source": [
        "def add_mul(choice, *args):\n",
        "    if choice == \"add\":\n",
        "        result = 0\n",
        "        for i in args:\n",
        "            result = result + i\n",
        "    elif choice == \"mul\":\n",
        "        result = 1\n",
        "        for i in args:\n",
        "            result = result * i\n",
        "    return result\n",
        "\n",
        "print(add_mul('add', 1,2,3,4,5))\n",
        "print(add_mul('mul', 1,2,3,4,5))"
      ],
      "metadata": {
        "id": "-FwYKdICubYU",
        "colab": {
          "base_uri": "https://localhost:8080/"
        },
        "outputId": "7ddb843e-eb35-41c1-d58a-d3d9cf9b6924"
      },
      "execution_count": null,
      "outputs": [
        {
          "output_type": "stream",
          "name": "stdout",
          "text": [
            "15\n",
            "120\n"
          ]
        }
      ]
    },
    {
      "cell_type": "code",
      "source": [
        "def star(a, *args):\n",
        "    for i in args:\n",
        "        for j in range(int(i)):\n",
        "            print(a, end = '')\n",
        "        print()\n",
        "star('*', 3,5,2)"
      ],
      "metadata": {
        "id": "iwhOFtsPuba0",
        "colab": {
          "base_uri": "https://localhost:8080/"
        },
        "outputId": "9331e7c6-e04d-4b20-c32a-c350557da0ec"
      },
      "execution_count": null,
      "outputs": [
        {
          "output_type": "stream",
          "name": "stdout",
          "text": [
            "***\n",
            "*****\n",
            "**\n"
          ]
        }
      ]
    },
    {
      "cell_type": "code",
      "source": [
        "def calcstep(begin, end, step = 1):\n",
        "    sum = 0\n",
        "    for num in range(begin, end+1, step):\n",
        "        sum += num\n",
        "    print(\"{}부터 {}까지 숫자 중 {}간격씩 더한 값은 \".format(begin, end, step), end = '')\n",
        "    return sum\n",
        "\n",
        "print(calcstep(1,100, 1))\n",
        "print(calcstep(1, 100))"
      ],
      "metadata": {
        "id": "FUmHal1aubfk",
        "colab": {
          "base_uri": "https://localhost:8080/"
        },
        "outputId": "55e25e34-f16e-4f00-cbfc-f63826643ebc"
      },
      "execution_count": null,
      "outputs": [
        {
          "output_type": "stream",
          "name": "stdout",
          "text": [
            "1부터 100까지 숫자 중 1간격씩 더한 값은 5050\n",
            "1부터 100까지 숫자 중 1간격씩 더한 값은 5050\n"
          ]
        }
      ]
    },
    {
      "cell_type": "code",
      "source": [
        "def fn(a,b,c,d,e):\n",
        "    print(a,b,c,d,e)\n",
        "\n",
        "fn(1,2,3,4,5)\n",
        "fn(a=1, b=2, c=3, d=4, e=5)\n",
        "fn(e=5, c=3, b=2, a=1, d=4)\n",
        "fn(1,2, d=4, c=3, e=5)"
      ],
      "metadata": {
        "id": "6-gWZZgoubks",
        "colab": {
          "base_uri": "https://localhost:8080/"
        },
        "outputId": "45a33cb8-4a9e-4e18-e3cf-64084fe40a0c"
      },
      "execution_count": null,
      "outputs": [
        {
          "output_type": "stream",
          "name": "stdout",
          "text": [
            "1 2 3 4 5\n",
            "1 2 3 4 5\n",
            "1 2 3 4 5\n",
            "1 2 3 4 5\n"
          ]
        }
      ]
    },
    {
      "cell_type": "code",
      "source": [
        "fn(d=4, e=5, 1,2,3)"
      ],
      "metadata": {
        "id": "fQIvlhK1ubnU",
        "colab": {
          "base_uri": "https://localhost:8080/",
          "height": 147
        },
        "outputId": "5533ffa9-06d2-458e-cf79-de5cd111ec64"
      },
      "execution_count": null,
      "outputs": [
        {
          "output_type": "error",
          "ename": "SyntaxError",
          "evalue": "ignored",
          "traceback": [
            "\u001b[0;36m  File \u001b[0;32m\"<ipython-input-34-ef35332df50f>\"\u001b[0;36m, line \u001b[0;32m1\u001b[0m\n\u001b[0;31m    fn(d=4, e=5, 1,2,3)\u001b[0m\n\u001b[0m                      ^\u001b[0m\n\u001b[0;31mSyntaxError\u001b[0m\u001b[0;31m:\u001b[0m positional argument follows keyword argument\n"
          ]
        }
      ]
    },
    {
      "cell_type": "code",
      "source": [
        "def print_n_times(value, n = 2):\n",
        "    for i in range(n):\n",
        "        print(value)\n",
        "\n",
        "print_n_times(\"안녕하세요.\")\n",
        "\n",
        "print_n_times(\"안녕히 가세요\", 3)"
      ],
      "metadata": {
        "id": "8KJiyw8tubpd",
        "colab": {
          "base_uri": "https://localhost:8080/"
        },
        "outputId": "e528a64c-6d6f-4f34-82ac-c7ff71547ed3"
      },
      "execution_count": null,
      "outputs": [
        {
          "output_type": "stream",
          "name": "stdout",
          "text": [
            "안녕하세요.\n",
            "안녕하세요.\n",
            "안녕히 가세요\n",
            "안녕히 가세요\n",
            "안녕히 가세요\n"
          ]
        }
      ]
    },
    {
      "cell_type": "code",
      "source": [
        "def add_mul(choice, *args):\n",
        "    if choice == 'add':\n",
        "        re = 0\n",
        "        for i in args:\n",
        "            re += i\n",
        "    elif choice == 'mul':\n",
        "        re = 1\n",
        "        for i in args:\n",
        "            re *= i\n",
        "    return re\n",
        "\n",
        "print(add_mul('add', 1,2,3,4,5))\n",
        "print(add_mul('mul', 1,2,3))"
      ],
      "metadata": {
        "id": "VhFnttbKubr9",
        "colab": {
          "base_uri": "https://localhost:8080/"
        },
        "outputId": "43659408-5819-4aed-83ff-ac9dadc5e942"
      },
      "execution_count": null,
      "outputs": [
        {
          "output_type": "stream",
          "name": "stdout",
          "text": [
            "15\n",
            "6\n"
          ]
        }
      ]
    },
    {
      "cell_type": "code",
      "source": [
        "def return_test():\n",
        "    print(\"A위치입니다.\")\n",
        "    return\n",
        "    print(\"B위치입니다.\")\n",
        "\n",
        "return_test()"
      ],
      "metadata": {
        "id": "YxhOxA9IubuM",
        "colab": {
          "base_uri": "https://localhost:8080/"
        },
        "outputId": "99334f63-109b-4c6a-bfae-6f02835cfc1e"
      },
      "execution_count": null,
      "outputs": [
        {
          "output_type": "stream",
          "name": "stdout",
          "text": [
            "A위치입니다.\n"
          ]
        }
      ]
    },
    {
      "cell_type": "code",
      "source": [
        "def return_test():\n",
        "    return 100\n",
        "\n",
        "value = return_test()\n",
        "print(value)"
      ],
      "metadata": {
        "colab": {
          "base_uri": "https://localhost:8080/"
        },
        "id": "bBXKXddAgcOC",
        "outputId": "abc09bfc-bf94-4804-887b-e54059e62d62"
      },
      "execution_count": null,
      "outputs": [
        {
          "output_type": "stream",
          "name": "stdout",
          "text": [
            "100\n"
          ]
        }
      ]
    },
    {
      "cell_type": "code",
      "source": [
        "def add(a,b):\n",
        "    return a + b\n",
        "\n",
        "value = add(123, 300)\n",
        "print(value)"
      ],
      "metadata": {
        "colab": {
          "base_uri": "https://localhost:8080/"
        },
        "id": "TsquBpEGgcQg",
        "outputId": "afe1e0f9-7646-4fdf-e71f-3808801f0bdf"
      },
      "execution_count": null,
      "outputs": [
        {
          "output_type": "stream",
          "name": "stdout",
          "text": [
            "423\n"
          ]
        }
      ]
    },
    {
      "cell_type": "code",
      "source": [
        "def big(a,b):\n",
        "    if a > b:\n",
        "        return a\n",
        "    else:\n",
        "        return b\n",
        "\n",
        "value = big(5,11)\n",
        "print(value)"
      ],
      "metadata": {
        "colab": {
          "base_uri": "https://localhost:8080/"
        },
        "id": "MGoHMsB2gcVQ",
        "outputId": "d51c0d1f-9da7-4335-e579-0720360f904a"
      },
      "execution_count": null,
      "outputs": [
        {
          "output_type": "stream",
          "name": "stdout",
          "text": [
            "11\n"
          ]
        }
      ]
    },
    {
      "cell_type": "code",
      "source": [
        "def sum_to_n(n):\n",
        "    sum = 0\n",
        "    for i in range(1, n+1):\n",
        "        sum += i\n",
        "    return sum\n",
        "\n",
        "sum_to_n(10)"
      ],
      "metadata": {
        "colab": {
          "base_uri": "https://localhost:8080/"
        },
        "id": "ecZ3E3U3gcXw",
        "outputId": "27ff519a-665e-4341-e665-f9f38f1ff251"
      },
      "execution_count": null,
      "outputs": [
        {
          "output_type": "execute_result",
          "data": {
            "text/plain": [
              "55"
            ]
          },
          "metadata": {},
          "execution_count": 13
        }
      ]
    },
    {
      "cell_type": "code",
      "source": [
        "def min(*numbers):\n",
        "    min_value = numbers[0]\n",
        "    for num in numbers:\n",
        "        if min_value > num:\n",
        "            min_value = num\n",
        "    return min_value\n",
        "\n",
        "result = min(5,2,7,4)\n",
        "print(\"최소값 :\", result)"
      ],
      "metadata": {
        "colab": {
          "base_uri": "https://localhost:8080/"
        },
        "id": "D8KIagTEgcZ4",
        "outputId": "d0980efc-e556-479f-e458-d1db2a3a7b11"
      },
      "execution_count": null,
      "outputs": [
        {
          "output_type": "stream",
          "name": "stdout",
          "text": [
            "최소값 : 2\n"
          ]
        }
      ]
    },
    {
      "cell_type": "code",
      "source": [
        "def multi_num(num, start, end):\n",
        "    result = []\n",
        "    for n in range(start, end+1):\n",
        "        if n % num == 0:\n",
        "            result.append(n)\n",
        "    return result\n",
        "\n",
        "mult = multi_num(17, 1, 200)\n",
        "print(mult)"
      ],
      "metadata": {
        "colab": {
          "base_uri": "https://localhost:8080/"
        },
        "id": "g28aUpUEkMRo",
        "outputId": "0cae7a1e-119e-4644-8aa5-8987510e3215"
      },
      "execution_count": null,
      "outputs": [
        {
          "output_type": "stream",
          "name": "stdout",
          "text": [
            "[17, 34, 51, 68, 85, 102, 119, 136, 153, 170, 187]\n"
          ]
        }
      ]
    },
    {
      "cell_type": "code",
      "source": [
        "def min_max(*args):\n",
        "    min = args[0]\n",
        "    max = args[0]\n",
        "    for arg in args:\n",
        "        if min > arg:\n",
        "            min = arg\n",
        "        if max < arg:\n",
        "            max = arg\n",
        "    return min, max\n",
        "\n",
        "min, max = min_max(52, -3, 23, 89, -21)\n",
        "print(f\"최소:{min} 최대:{max}\")"
      ],
      "metadata": {
        "colab": {
          "base_uri": "https://localhost:8080/"
        },
        "id": "HsKRcDg3kMUL",
        "outputId": "c0a80eac-acac-4cd1-ff29-5d3bec4304f6"
      },
      "execution_count": null,
      "outputs": [
        {
          "output_type": "stream",
          "name": "stdout",
          "text": [
            "최소:-21 최대:89\n"
          ]
        }
      ]
    },
    {
      "cell_type": "code",
      "source": [
        "import random\n",
        "def position(number, title, column):\n",
        "    print(title)\n",
        "    students = list(range(1, number+1))\n",
        "    random.shuffle(students)\n",
        "    pos = \"\"\n",
        "    for i in range(0, number):\n",
        "        if students[i] < 10:\n",
        "            pos = pos + \"0\" + str(students[i]) + \"번\\t\"\n",
        "        else:\n",
        "            pos = pos + str(students[i]) + \"번\\t\"\n",
        "        if(i+1) % column == 0:\n",
        "            pos = pos + '\\n'\n",
        "    print(pos)\n",
        "position(20, title = \"3-2반\", column = 5)"
      ],
      "metadata": {
        "colab": {
          "base_uri": "https://localhost:8080/"
        },
        "id": "taxZ0LAtkMWn",
        "outputId": "084c7e06-7c37-48d6-baeb-92be1e27a562"
      },
      "execution_count": null,
      "outputs": [
        {
          "output_type": "stream",
          "name": "stdout",
          "text": [
            "3-2반\n",
            "06번\t16번\t14번\t19번\t13번\t\n",
            "05번\t09번\t18번\t12번\t03번\t\n",
            "07번\t02번\t20번\t17번\t15번\t\n",
            "01번\t04번\t08번\t10번\t11번\t\n",
            "\n"
          ]
        }
      ]
    },
    {
      "cell_type": "markdown",
      "source": [
        "지역변수\n",
        "- 함수 내부에서 만들어진 변수\n",
        "- 함수안에서만 사용가능\n"
      ],
      "metadata": {
        "id": "V1on2_A-yBEP"
      }
    },
    {
      "cell_type": "code",
      "source": [
        "def hi():\n",
        "    name = input(\"이름은?\")\n",
        "    print(\"hi!\")\n",
        "    print(\"My name is\", name, \"!\")\n",
        "\n",
        "print(\"자기소개를 시작합니다.\")\n",
        "hi()\n",
        "print(name, \"님 안녕하세요.\")"
      ],
      "metadata": {
        "colab": {
          "base_uri": "https://localhost:8080/",
          "height": 294
        },
        "id": "jo8NUmaVkMYo",
        "outputId": "46b63b3f-f690-4495-a12e-20a395cc0c81"
      },
      "execution_count": null,
      "outputs": [
        {
          "output_type": "stream",
          "name": "stdout",
          "text": [
            "자기소개를 시작합니다.\n",
            "이름은?김시겸\n",
            "hi!\n",
            "My name is 김시겸 !\n"
          ]
        },
        {
          "output_type": "error",
          "ename": "NameError",
          "evalue": "ignored",
          "traceback": [
            "\u001b[0;31m---------------------------------------------------------------------------\u001b[0m",
            "\u001b[0;31mNameError\u001b[0m                                 Traceback (most recent call last)",
            "\u001b[0;32m<ipython-input-28-ed3afc2b4e48>\u001b[0m in \u001b[0;36m<cell line: 8>\u001b[0;34m()\u001b[0m\n\u001b[1;32m      6\u001b[0m \u001b[0mprint\u001b[0m\u001b[0;34m(\u001b[0m\u001b[0;34m\"자기소개를 시작합니다.\"\u001b[0m\u001b[0;34m)\u001b[0m\u001b[0;34m\u001b[0m\u001b[0;34m\u001b[0m\u001b[0m\n\u001b[1;32m      7\u001b[0m \u001b[0mhi\u001b[0m\u001b[0;34m(\u001b[0m\u001b[0;34m)\u001b[0m\u001b[0;34m\u001b[0m\u001b[0;34m\u001b[0m\u001b[0m\n\u001b[0;32m----> 8\u001b[0;31m \u001b[0mprint\u001b[0m\u001b[0;34m(\u001b[0m\u001b[0mname\u001b[0m\u001b[0;34m,\u001b[0m \u001b[0;34m\"님 안녕하세요.\"\u001b[0m\u001b[0;34m)\u001b[0m\u001b[0;34m\u001b[0m\u001b[0;34m\u001b[0m\u001b[0m\n\u001b[0m",
            "\u001b[0;31mNameError\u001b[0m: name 'name' is not defined"
          ]
        }
      ]
    },
    {
      "cell_type": "code",
      "source": [
        "def hi():\n",
        "    name = input(\"이름은?\")\n",
        "    print(\"hi!\")\n",
        "    print(\"My name is\", name, \"!\")\n",
        "    return name\n",
        "\n",
        "print(\"자기소개를 시작합니다.\")\n",
        "person = hi()\n",
        "print(person, \"님 안녕하세요.\")"
      ],
      "metadata": {
        "colab": {
          "base_uri": "https://localhost:8080/"
        },
        "id": "HZqjR4OOylpF",
        "outputId": "59c879a8-d2a2-4735-b6a9-dfab58f86d3c"
      },
      "execution_count": null,
      "outputs": [
        {
          "output_type": "stream",
          "name": "stdout",
          "text": [
            "자기소개를 시작합니다.\n",
            "이름은?시겸\n",
            "hi!\n",
            "My name is 시겸 !\n",
            "시겸 님 안녕하세요.\n"
          ]
        }
      ]
    },
    {
      "cell_type": "markdown",
      "source": [
        "전역변수\n",
        "- 함수외부에서 정의된 변수\n",
        "- 프로그램 전체에서 사용(읽을수만)할 수 있다.\n",
        "- 함수내부에서 변경할 수는 없다."
      ],
      "metadata": {
        "id": "umjXRRRRzX2F"
      }
    },
    {
      "cell_type": "code",
      "source": [
        "def func1():\n",
        "    a += 2\n",
        "    b *= 2\n",
        "    print(a, b)\n",
        "\n",
        "a, b= 5, 10\n",
        "func1()"
      ],
      "metadata": {
        "colab": {
          "base_uri": "https://localhost:8080/",
          "height": 349
        },
        "id": "anVT8lm5ylrc",
        "outputId": "58b9b99a-ef4d-45db-bcc4-b0699be07247"
      },
      "execution_count": null,
      "outputs": [
        {
          "output_type": "error",
          "ename": "UnboundLocalError",
          "evalue": "ignored",
          "traceback": [
            "\u001b[0;31m---------------------------------------------------------------------------\u001b[0m",
            "\u001b[0;31mUnboundLocalError\u001b[0m                         Traceback (most recent call last)",
            "\u001b[0;32m<ipython-input-34-e2872b82a64c>\u001b[0m in \u001b[0;36m<cell line: 7>\u001b[0;34m()\u001b[0m\n\u001b[1;32m      5\u001b[0m \u001b[0;34m\u001b[0m\u001b[0m\n\u001b[1;32m      6\u001b[0m \u001b[0ma\u001b[0m\u001b[0;34m,\u001b[0m \u001b[0mb\u001b[0m\u001b[0;34m=\u001b[0m \u001b[0;36m5\u001b[0m\u001b[0;34m,\u001b[0m \u001b[0;36m10\u001b[0m\u001b[0;34m\u001b[0m\u001b[0;34m\u001b[0m\u001b[0m\n\u001b[0;32m----> 7\u001b[0;31m \u001b[0mfunc1\u001b[0m\u001b[0;34m(\u001b[0m\u001b[0;34m)\u001b[0m\u001b[0;34m\u001b[0m\u001b[0;34m\u001b[0m\u001b[0m\n\u001b[0m",
            "\u001b[0;32m<ipython-input-34-e2872b82a64c>\u001b[0m in \u001b[0;36mfunc1\u001b[0;34m()\u001b[0m\n\u001b[1;32m      1\u001b[0m \u001b[0;32mdef\u001b[0m \u001b[0mfunc1\u001b[0m\u001b[0;34m(\u001b[0m\u001b[0;34m)\u001b[0m\u001b[0;34m:\u001b[0m\u001b[0;34m\u001b[0m\u001b[0;34m\u001b[0m\u001b[0m\n\u001b[0;32m----> 2\u001b[0;31m     \u001b[0ma\u001b[0m \u001b[0;34m+=\u001b[0m \u001b[0;36m2\u001b[0m\u001b[0;34m\u001b[0m\u001b[0;34m\u001b[0m\u001b[0m\n\u001b[0m\u001b[1;32m      3\u001b[0m     \u001b[0mb\u001b[0m \u001b[0;34m*=\u001b[0m \u001b[0;36m2\u001b[0m\u001b[0;34m\u001b[0m\u001b[0;34m\u001b[0m\u001b[0m\n\u001b[1;32m      4\u001b[0m     \u001b[0mprint\u001b[0m\u001b[0;34m(\u001b[0m\u001b[0ma\u001b[0m\u001b[0;34m,\u001b[0m \u001b[0mb\u001b[0m\u001b[0;34m)\u001b[0m\u001b[0;34m\u001b[0m\u001b[0;34m\u001b[0m\u001b[0m\n\u001b[1;32m      5\u001b[0m \u001b[0;34m\u001b[0m\u001b[0m\n",
            "\u001b[0;31mUnboundLocalError\u001b[0m: local variable 'a' referenced before assignment"
          ]
        }
      ]
    },
    {
      "cell_type": "code",
      "source": [
        "def func1():\n",
        "    #a += 2\n",
        "    #b *= 2\n",
        "    print(a, b)\n",
        "\n",
        "a, b= 5, 10\n",
        "func1()"
      ],
      "metadata": {
        "colab": {
          "base_uri": "https://localhost:8080/"
        },
        "id": "C3hpNf8Zylt1",
        "outputId": "b7657dfe-b7dc-449e-fea7-f64c15561dcb"
      },
      "execution_count": null,
      "outputs": [
        {
          "output_type": "stream",
          "name": "stdout",
          "text": [
            "5 10\n"
          ]
        }
      ]
    },
    {
      "cell_type": "code",
      "source": [
        "def func1():\n",
        "    global a, b\n",
        "    a += 2\n",
        "    b *= 2\n",
        "    print(a, b)\n",
        "\n",
        "a, b= 5, 10\n",
        "func1()\n",
        "func1()"
      ],
      "metadata": {
        "colab": {
          "base_uri": "https://localhost:8080/"
        },
        "id": "uiMvXDFLylv8",
        "outputId": "4fdced20-fbfb-44f3-8646-3f11e7f040f8"
      },
      "execution_count": null,
      "outputs": [
        {
          "output_type": "stream",
          "name": "stdout",
          "text": [
            "7 20\n",
            "9 40\n"
          ]
        }
      ]
    },
    {
      "cell_type": "code",
      "source": [
        "def func1():\n",
        "    global a, b\n",
        "    a += 2\n",
        "    b *= 2\n",
        "    print(a, b)\n",
        "\n",
        "a, b= 5, 10\n",
        "for i in range(5):\n",
        "    func1()"
      ],
      "metadata": {
        "colab": {
          "base_uri": "https://localhost:8080/"
        },
        "id": "KTsFpPDcylyL",
        "outputId": "e22c4ad5-bd19-461b-8309-32b3b8af61cc"
      },
      "execution_count": null,
      "outputs": [
        {
          "output_type": "stream",
          "name": "stdout",
          "text": [
            "7 20\n",
            "9 40\n",
            "11 80\n",
            "13 160\n",
            "15 320\n"
          ]
        }
      ]
    },
    {
      "cell_type": "code",
      "source": [
        "def reward_penalty(kind, points):\n",
        "    global current_point\n",
        "\n",
        "    print(\"현재점수 :\", current_point)\n",
        "    if kind == '상점':\n",
        "        current_point += points\n",
        "    elif kind == '벌점':\n",
        "        current_point -= points\n",
        "\n",
        "current_point = 5\n",
        "\n",
        "reward_penalty('상점', 5)\n",
        "print(\"최종 점수 :\", current_point)"
      ],
      "metadata": {
        "id": "1StDcLHdubwc",
        "colab": {
          "base_uri": "https://localhost:8080/"
        },
        "outputId": "85beedea-38c9-488d-cb74-6f6bcf5e8e24"
      },
      "execution_count": null,
      "outputs": [
        {
          "output_type": "stream",
          "name": "stdout",
          "text": [
            "현재점수 : 5\n",
            "최종 점수 : 10\n"
          ]
        }
      ]
    },
    {
      "cell_type": "markdown",
      "source": [
        "파일처리\n",
        "- 1) 파일 오픈 => 파일객체 = open('파일명', 모드)\n",
        "- 2) 파일 처리\n",
        "- 3) 파일 닫기 => 파일명.close()\n"
      ],
      "metadata": {
        "id": "iEUtDTZelF_U"
      }
    },
    {
      "cell_type": "code",
      "source": [
        "file = open('basic.txt','w')\n",
        "\n",
        "file.write('Hello Python Programming...!')\n",
        "\n",
        "file.close()"
      ],
      "metadata": {
        "id": "PJ2eSpUThh6h"
      },
      "execution_count": null,
      "outputs": []
    },
    {
      "cell_type": "code",
      "source": [
        "with open('basic.txt', 'w') as file:\n",
        "    file.write(\"Hello World...!\")"
      ],
      "metadata": {
        "id": "U695A4-hhh85"
      },
      "execution_count": null,
      "outputs": []
    },
    {
      "cell_type": "code",
      "source": [
        "with open('basic.txt', 'r') as file:\n",
        "    contents = file.read()\n",
        "print(contents)"
      ],
      "metadata": {
        "colab": {
          "base_uri": "https://localhost:8080/"
        },
        "id": "9G70StZrhh_R",
        "outputId": "a4296ab9-859c-48fe-be6f-f31c495cb44b"
      },
      "execution_count": null,
      "outputs": [
        {
          "output_type": "stream",
          "name": "stdout",
          "text": [
            "Hello World...!\n"
          ]
        }
      ]
    },
    {
      "cell_type": "code",
      "source": [
        "import random\n",
        "\n",
        "hanguls = list('가나다라마바사아자차카타파하')\n",
        "#print(hanguls)\n",
        "\n",
        "with open('info.txt', 'w') as file:\n",
        "    for i in range(50):\n",
        "        name = random.choice(hanguls) + random.choice(hanguls)\n",
        "        weight = random.randrange(40, 100)\n",
        "        height = random.randrange(140, 200)\n",
        "        file.write(\"{},{},{}\\n\".format(name, weight, height))\n"
      ],
      "metadata": {
        "id": "YLk9E8IahiCJ"
      },
      "execution_count": null,
      "outputs": []
    },
    {
      "cell_type": "code",
      "source": [
        "with open('info.txt', 'r')as file:\n",
        "    for line in file:\n",
        "\n",
        "        name, weight, height = line.strip().split(',')\n",
        "\n",
        "        print('\\n'.join([\n",
        "            \"이름: {}\",\n",
        "            \"몸무게: {}\",\n",
        "            \"키: {}\"\n",
        "        ]).format(name, weight, height))\n",
        "\n",
        "        print()"
      ],
      "metadata": {
        "colab": {
          "base_uri": "https://localhost:8080/"
        },
        "id": "b7qS9H3_hiDr",
        "outputId": "caef975f-361d-48ce-b46f-703f43ce6a1e"
      },
      "execution_count": null,
      "outputs": [
        {
          "output_type": "stream",
          "name": "stdout",
          "text": [
            "이름: 라다\n",
            "몸무게: 82\n",
            "키: 190\n",
            "\n",
            "이름: 카하\n",
            "몸무게: 82\n",
            "키: 180\n",
            "\n",
            "이름: 바마\n",
            "몸무게: 82\n",
            "키: 153\n",
            "\n",
            "이름: 바자\n",
            "몸무게: 74\n",
            "키: 192\n",
            "\n",
            "이름: 타아\n",
            "몸무게: 63\n",
            "키: 155\n",
            "\n",
            "이름: 자나\n",
            "몸무게: 45\n",
            "키: 166\n",
            "\n",
            "이름: 카가\n",
            "몸무게: 58\n",
            "키: 163\n",
            "\n",
            "이름: 타사\n",
            "몸무게: 75\n",
            "키: 182\n",
            "\n",
            "이름: 하파\n",
            "몸무게: 53\n",
            "키: 166\n",
            "\n",
            "이름: 사파\n",
            "몸무게: 59\n",
            "키: 161\n",
            "\n",
            "이름: 사다\n",
            "몸무게: 83\n",
            "키: 197\n",
            "\n",
            "이름: 다라\n",
            "몸무게: 72\n",
            "키: 195\n",
            "\n",
            "이름: 카사\n",
            "몸무게: 97\n",
            "키: 185\n",
            "\n",
            "이름: 나타\n",
            "몸무게: 59\n",
            "키: 183\n",
            "\n",
            "이름: 라타\n",
            "몸무게: 71\n",
            "키: 153\n",
            "\n",
            "이름: 나바\n",
            "몸무게: 77\n",
            "키: 183\n",
            "\n",
            "이름: 자나\n",
            "몸무게: 91\n",
            "키: 174\n",
            "\n",
            "이름: 자마\n",
            "몸무게: 56\n",
            "키: 168\n",
            "\n",
            "이름: 다하\n",
            "몸무게: 89\n",
            "키: 181\n",
            "\n",
            "이름: 가카\n",
            "몸무게: 67\n",
            "키: 163\n",
            "\n",
            "이름: 라자\n",
            "몸무게: 40\n",
            "키: 153\n",
            "\n",
            "이름: 자나\n",
            "몸무게: 91\n",
            "키: 149\n",
            "\n",
            "이름: 마타\n",
            "몸무게: 54\n",
            "키: 149\n",
            "\n",
            "이름: 나나\n",
            "몸무게: 57\n",
            "키: 163\n",
            "\n",
            "이름: 자사\n",
            "몸무게: 75\n",
            "키: 180\n",
            "\n",
            "이름: 가파\n",
            "몸무게: 45\n",
            "키: 168\n",
            "\n",
            "이름: 라사\n",
            "몸무게: 96\n",
            "키: 198\n",
            "\n",
            "이름: 파가\n",
            "몸무게: 74\n",
            "키: 150\n",
            "\n",
            "이름: 자나\n",
            "몸무게: 73\n",
            "키: 168\n",
            "\n",
            "이름: 다나\n",
            "몸무게: 43\n",
            "키: 163\n",
            "\n",
            "이름: 바라\n",
            "몸무게: 87\n",
            "키: 195\n",
            "\n",
            "이름: 마하\n",
            "몸무게: 76\n",
            "키: 154\n",
            "\n",
            "이름: 가가\n",
            "몸무게: 43\n",
            "키: 150\n",
            "\n",
            "이름: 사차\n",
            "몸무게: 46\n",
            "키: 148\n",
            "\n",
            "이름: 차사\n",
            "몸무게: 41\n",
            "키: 194\n",
            "\n",
            "이름: 타다\n",
            "몸무게: 73\n",
            "키: 188\n",
            "\n",
            "이름: 나카\n",
            "몸무게: 76\n",
            "키: 160\n",
            "\n",
            "이름: 사사\n",
            "몸무게: 45\n",
            "키: 179\n",
            "\n",
            "이름: 마바\n",
            "몸무게: 93\n",
            "키: 189\n",
            "\n",
            "이름: 차바\n",
            "몸무게: 76\n",
            "키: 168\n",
            "\n",
            "이름: 타아\n",
            "몸무게: 60\n",
            "키: 144\n",
            "\n",
            "이름: 자라\n",
            "몸무게: 71\n",
            "키: 168\n",
            "\n",
            "이름: 파바\n",
            "몸무게: 71\n",
            "키: 197\n",
            "\n",
            "이름: 아다\n",
            "몸무게: 57\n",
            "키: 194\n",
            "\n",
            "이름: 자파\n",
            "몸무게: 88\n",
            "키: 158\n",
            "\n",
            "이름: 자자\n",
            "몸무게: 99\n",
            "키: 147\n",
            "\n",
            "이름: 사사\n",
            "몸무게: 50\n",
            "키: 182\n",
            "\n",
            "이름: 나가\n",
            "몸무게: 55\n",
            "키: 143\n",
            "\n",
            "이름: 타차\n",
            "몸무게: 80\n",
            "키: 162\n",
            "\n",
            "이름: 아자\n",
            "몸무게: 78\n",
            "키: 152\n",
            "\n"
          ]
        }
      ]
    },
    {
      "cell_type": "code",
      "source": [
        "with open('info.txt', 'r')as file:\n",
        "    for line in file:\n",
        "\n",
        "        name, weight, height = line.strip().split(',')\n",
        "\n",
        "        bmi = int(weight) / ((int(height)/100)**2)\n",
        "        result = ''\n",
        "        if bmi >= 25:\n",
        "            result = '과체중'\n",
        "        elif bmi >= 18.5:\n",
        "            result = '정상 체중'\n",
        "        else:\n",
        "            result = '저체중'\n",
        "\n",
        "        print('\\n'.join([\n",
        "            \"이름: {}\",\n",
        "            \"몸무게: {}\",\n",
        "            \"키: {}\",\n",
        "            \"BMI: {}\",\n",
        "            \"결과: {}\"\n",
        "        ]).format(name, weight, height, bmi, result))\n",
        "\n",
        "        print()"
      ],
      "metadata": {
        "colab": {
          "base_uri": "https://localhost:8080/"
        },
        "id": "fRs6LATXhiGa",
        "outputId": "5b6e24af-37bc-4325-c0d1-808140f5bf25"
      },
      "execution_count": null,
      "outputs": [
        {
          "output_type": "stream",
          "name": "stdout",
          "text": [
            "이름: 라다\n",
            "몸무게: 82\n",
            "키: 190\n",
            "BMI: 22.714681440443215\n",
            "결과: 정상 체중\n",
            "\n",
            "이름: 카하\n",
            "몸무게: 82\n",
            "키: 180\n",
            "BMI: 25.30864197530864\n",
            "결과: 과체중\n",
            "\n",
            "이름: 바마\n",
            "몸무게: 82\n",
            "키: 153\n",
            "BMI: 35.02926224956214\n",
            "결과: 과체중\n",
            "\n",
            "이름: 바자\n",
            "몸무게: 74\n",
            "키: 192\n",
            "BMI: 20.07378472222222\n",
            "결과: 정상 체중\n",
            "\n",
            "이름: 타아\n",
            "몸무게: 63\n",
            "키: 155\n",
            "BMI: 26.22268470343392\n",
            "결과: 과체중\n",
            "\n",
            "이름: 자나\n",
            "몸무게: 45\n",
            "키: 166\n",
            "BMI: 16.330381768036002\n",
            "결과: 저체중\n",
            "\n",
            "이름: 카가\n",
            "몸무게: 58\n",
            "키: 163\n",
            "BMI: 21.829952199932254\n",
            "결과: 정상 체중\n",
            "\n",
            "이름: 타사\n",
            "몸무게: 75\n",
            "키: 182\n",
            "BMI: 22.6421929718633\n",
            "결과: 정상 체중\n",
            "\n",
            "이름: 하파\n",
            "몸무게: 53\n",
            "키: 166\n",
            "BMI: 19.233560749020178\n",
            "결과: 정상 체중\n",
            "\n",
            "이름: 사파\n",
            "몸무게: 59\n",
            "키: 161\n",
            "BMI: 22.76146753597469\n",
            "결과: 정상 체중\n",
            "\n",
            "이름: 사다\n",
            "몸무게: 83\n",
            "키: 197\n",
            "BMI: 21.386791723569274\n",
            "결과: 정상 체중\n",
            "\n",
            "이름: 다라\n",
            "몸무게: 72\n",
            "키: 195\n",
            "BMI: 18.93491124260355\n",
            "결과: 정상 체중\n",
            "\n",
            "이름: 카사\n",
            "몸무게: 97\n",
            "키: 185\n",
            "BMI: 28.341855368882392\n",
            "결과: 과체중\n",
            "\n",
            "이름: 나타\n",
            "몸무게: 59\n",
            "키: 183\n",
            "BMI: 17.617725223207618\n",
            "결과: 저체중\n",
            "\n",
            "이름: 라타\n",
            "몸무게: 71\n",
            "키: 153\n",
            "BMI: 30.33021487462087\n",
            "결과: 과체중\n",
            "\n",
            "이름: 나바\n",
            "몸무게: 77\n",
            "키: 183\n",
            "BMI: 22.99262444384723\n",
            "결과: 정상 체중\n",
            "\n",
            "이름: 자나\n",
            "몸무게: 91\n",
            "키: 174\n",
            "BMI: 30.056810675122207\n",
            "결과: 과체중\n",
            "\n",
            "이름: 자마\n",
            "몸무게: 56\n",
            "키: 168\n",
            "BMI: 19.841269841269845\n",
            "결과: 정상 체중\n",
            "\n",
            "이름: 다하\n",
            "몸무게: 89\n",
            "키: 181\n",
            "BMI: 27.16644791062544\n",
            "결과: 과체중\n",
            "\n",
            "이름: 가카\n",
            "몸무게: 67\n",
            "키: 163\n",
            "BMI: 25.21735857578381\n",
            "결과: 과체중\n",
            "\n",
            "이름: 라자\n",
            "몸무게: 40\n",
            "키: 153\n",
            "BMI: 17.087444999786406\n",
            "결과: 저체중\n",
            "\n",
            "이름: 자나\n",
            "몸무게: 91\n",
            "키: 149\n",
            "BMI: 40.98914463312463\n",
            "결과: 과체중\n",
            "\n",
            "이름: 마타\n",
            "몸무게: 54\n",
            "키: 149\n",
            "BMI: 24.32322868339264\n",
            "결과: 정상 체중\n",
            "\n",
            "이름: 나나\n",
            "몸무게: 57\n",
            "키: 163\n",
            "BMI: 21.453573713726524\n",
            "결과: 정상 체중\n",
            "\n",
            "이름: 자사\n",
            "몸무게: 75\n",
            "키: 180\n",
            "BMI: 23.148148148148145\n",
            "결과: 정상 체중\n",
            "\n",
            "이름: 가파\n",
            "몸무게: 45\n",
            "키: 168\n",
            "BMI: 15.94387755102041\n",
            "결과: 저체중\n",
            "\n",
            "이름: 라사\n",
            "몸무게: 96\n",
            "키: 198\n",
            "BMI: 24.487297214569942\n",
            "결과: 정상 체중\n",
            "\n",
            "이름: 파가\n",
            "몸무게: 74\n",
            "키: 150\n",
            "BMI: 32.888888888888886\n",
            "결과: 과체중\n",
            "\n",
            "이름: 자나\n",
            "몸무게: 73\n",
            "키: 168\n",
            "BMI: 25.86451247165533\n",
            "결과: 과체중\n",
            "\n",
            "이름: 다나\n",
            "몸무게: 43\n",
            "키: 163\n",
            "BMI: 16.184274906846326\n",
            "결과: 저체중\n",
            "\n",
            "이름: 바라\n",
            "몸무게: 87\n",
            "키: 195\n",
            "BMI: 22.87968441814596\n",
            "결과: 정상 체중\n",
            "\n",
            "이름: 마하\n",
            "몸무게: 76\n",
            "키: 154\n",
            "BMI: 32.04587620172036\n",
            "결과: 과체중\n",
            "\n",
            "이름: 가가\n",
            "몸무게: 43\n",
            "키: 150\n",
            "BMI: 19.11111111111111\n",
            "결과: 정상 체중\n",
            "\n",
            "이름: 사차\n",
            "몸무게: 46\n",
            "키: 148\n",
            "BMI: 21.00073046018992\n",
            "결과: 정상 체중\n",
            "\n",
            "이름: 차사\n",
            "몸무게: 41\n",
            "키: 194\n",
            "BMI: 10.893825061111702\n",
            "결과: 저체중\n",
            "\n",
            "이름: 타다\n",
            "몸무게: 73\n",
            "키: 188\n",
            "BMI: 20.654142145767317\n",
            "결과: 정상 체중\n",
            "\n",
            "이름: 나카\n",
            "몸무게: 76\n",
            "키: 160\n",
            "BMI: 29.687499999999993\n",
            "결과: 과체중\n",
            "\n",
            "이름: 사사\n",
            "몸무게: 45\n",
            "키: 179\n",
            "BMI: 14.044505477357136\n",
            "결과: 저체중\n",
            "\n",
            "이름: 마바\n",
            "몸무게: 93\n",
            "키: 189\n",
            "BMI: 26.035105400184765\n",
            "결과: 과체중\n",
            "\n",
            "이름: 차바\n",
            "몸무게: 76\n",
            "키: 168\n",
            "BMI: 26.92743764172336\n",
            "결과: 과체중\n",
            "\n",
            "이름: 타아\n",
            "몸무게: 60\n",
            "키: 144\n",
            "BMI: 28.935185185185187\n",
            "결과: 과체중\n",
            "\n",
            "이름: 자라\n",
            "몸무게: 71\n",
            "키: 168\n",
            "BMI: 25.15589569160998\n",
            "결과: 과체중\n",
            "\n",
            "이름: 파바\n",
            "몸무게: 71\n",
            "키: 197\n",
            "BMI: 18.29472545028215\n",
            "결과: 저체중\n",
            "\n",
            "이름: 아다\n",
            "몸무게: 57\n",
            "키: 194\n",
            "BMI: 15.145073865447976\n",
            "결과: 저체중\n",
            "\n",
            "이름: 자파\n",
            "몸무게: 88\n",
            "키: 158\n",
            "BMI: 35.250761095978206\n",
            "결과: 과체중\n",
            "\n",
            "이름: 자자\n",
            "몸무게: 99\n",
            "키: 147\n",
            "BMI: 45.81424406497293\n",
            "결과: 과체중\n",
            "\n",
            "이름: 사사\n",
            "몸무게: 50\n",
            "키: 182\n",
            "BMI: 15.094795314575533\n",
            "결과: 저체중\n",
            "\n",
            "이름: 나가\n",
            "몸무게: 55\n",
            "키: 143\n",
            "BMI: 26.896180742334593\n",
            "결과: 과체중\n",
            "\n",
            "이름: 타차\n",
            "몸무게: 80\n",
            "키: 162\n",
            "BMI: 30.48315805517451\n",
            "결과: 과체중\n",
            "\n",
            "이름: 아자\n",
            "몸무게: 78\n",
            "키: 152\n",
            "BMI: 33.76038781163435\n",
            "결과: 과체중\n",
            "\n"
          ]
        }
      ]
    },
    {
      "cell_type": "code",
      "source": [],
      "metadata": {
        "id": "3_T7ey1JhiIv"
      },
      "execution_count": null,
      "outputs": []
    }
  ]
}