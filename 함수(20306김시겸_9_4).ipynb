{
  "nbformat": 4,
  "nbformat_minor": 0,
  "metadata": {
    "colab": {
      "provenance": [],
      "authorship_tag": "ABX9TyMnaF7/M0SxuL1ptnq7BKzn",
      "include_colab_link": true
    },
    "kernelspec": {
      "name": "python3",
      "display_name": "Python 3"
    },
    "language_info": {
      "name": "python"
    }
  },
  "cells": [
    {
      "cell_type": "markdown",
      "metadata": {
        "id": "view-in-github",
        "colab_type": "text"
      },
      "source": [
        "<a href=\"https://colab.research.google.com/github/KimSiGyum/python2/blob/main/%ED%95%A8%EC%88%98(20306%EA%B9%80%EC%8B%9C%EA%B2%B8_9_4).ipynb\" target=\"_parent\"><img src=\"https://colab.research.google.com/assets/colab-badge.svg\" alt=\"Open In Colab\"/></a>"
      ]
    },
    {
      "cell_type": "markdown",
      "source": [
        "* 사용자 정의함수\n",
        "\n",
        "1) 함수 정의(선언)\n",
        "- def 함수명() :\n",
        "\n",
        "2) 함수 호출(call)\n",
        "- 함수명()"
      ],
      "metadata": {
        "id": "GYXVjpZhqbpN"
      }
    },
    {
      "cell_type": "code",
      "source": [
        "#함수 정의\n",
        "def Hi():\n",
        "    print(\"Hello World\")\n",
        "\n",
        "#함수 호출\n",
        "Hi()"
      ],
      "metadata": {
        "colab": {
          "base_uri": "https://localhost:8080/"
        },
        "id": "vhAwlsjwqzzl",
        "outputId": "668c95d2-5743-456d-e1ef-1c66a21f1a79"
      },
      "execution_count": null,
      "outputs": [
        {
          "output_type": "stream",
          "name": "stdout",
          "text": [
            "Hello World\n"
          ]
        }
      ]
    },
    {
      "cell_type": "code",
      "source": [
        "def triangle():\n",
        "    for i in range(5):\n",
        "        for j in range(i+1):\n",
        "            print('*', end='')\n",
        "        print()\n",
        "triangle()"
      ],
      "metadata": {
        "colab": {
          "base_uri": "https://localhost:8080/"
        },
        "id": "KHRqKA7WrE0N",
        "outputId": "3589b073-ee80-4683-a2d1-ce57da561e15"
      },
      "execution_count": null,
      "outputs": [
        {
          "output_type": "stream",
          "name": "stdout",
          "text": [
            "*\n",
            "**\n",
            "***\n",
            "****\n",
            "*****\n"
          ]
        }
      ]
    },
    {
      "cell_type": "code",
      "source": [
        "def hello(매개1, 매개2):\n",
        "    print(매개1)\n",
        "    print(매개2)\n",
        "\n",
        "hello(1, 2)"
      ],
      "metadata": {
        "colab": {
          "base_uri": "https://localhost:8080/"
        },
        "id": "afAgjd-Lsbsl",
        "outputId": "524805fa-1d33-4201-9171-e126d9647820"
      },
      "execution_count": null,
      "outputs": [
        {
          "output_type": "stream",
          "name": "stdout",
          "text": [
            "1\n",
            "2\n"
          ]
        }
      ]
    },
    {
      "cell_type": "code",
      "source": [
        "def name(name):\n",
        "    print(f\"내 이름은 {name}야. 만나서 반가워\")\n",
        "\n",
        "name(\"채송화\")\n",
        "name(\"아이유\")"
      ],
      "metadata": {
        "colab": {
          "base_uri": "https://localhost:8080/"
        },
        "id": "yy7VzYfTsbvG",
        "outputId": "c093b1eb-6113-4cbd-c2e5-cc46b979bee0"
      },
      "execution_count": null,
      "outputs": [
        {
          "output_type": "stream",
          "name": "stdout",
          "text": [
            "내 이름은 채송화야. 만나서 반가워\n",
            "내 이름은 아이유야. 만나서 반가워\n"
          ]
        }
      ]
    },
    {
      "cell_type": "code",
      "source": [
        "def even(a):\n",
        "    if a%2 == 0:\n",
        "        print(\"짝수\")\n",
        "    else:\n",
        "        print(\"홀수\")\n",
        "even(11)"
      ],
      "metadata": {
        "colab": {
          "base_uri": "https://localhost:8080/"
        },
        "id": "TMwEDvxpsbxt",
        "outputId": "a9536ea7-d6f2-441b-ead7-595fc6477ded"
      },
      "execution_count": null,
      "outputs": [
        {
          "output_type": "stream",
          "name": "stdout",
          "text": [
            "홀수\n"
          ]
        }
      ]
    },
    {
      "cell_type": "code",
      "source": [
        "def triangle(a):\n",
        "    for i in range(a):\n",
        "        for j in range(i+1):\n",
        "            print('*', end='')\n",
        "        print()\n",
        "triangle(3)"
      ],
      "metadata": {
        "colab": {
          "base_uri": "https://localhost:8080/"
        },
        "id": "gbiPQ5afsb2l",
        "outputId": "aa6a1773-bff7-48c9-e9a3-c262527aa119"
      },
      "execution_count": null,
      "outputs": [
        {
          "output_type": "stream",
          "name": "stdout",
          "text": [
            "*\n",
            "**\n",
            "***\n"
          ]
        }
      ]
    },
    {
      "cell_type": "code",
      "source": [
        "def print_n_times(value, n):\n",
        "    for i in range(n):\n",
        "        print(value)\n",
        "\n",
        "print_n_times(\"안녕하세요\", 2)\n",
        "print_n_times(\"반가워요\", 3)"
      ],
      "metadata": {
        "colab": {
          "base_uri": "https://localhost:8080/"
        },
        "id": "3UL0vO_DscA-",
        "outputId": "8a560ba6-6c24-404b-d407-c6c8765149d6"
      },
      "execution_count": null,
      "outputs": [
        {
          "output_type": "stream",
          "name": "stdout",
          "text": [
            "안녕하세요\n",
            "안녕하세요\n",
            "반가워요\n",
            "반가워요\n",
            "반가워요\n"
          ]
        }
      ]
    },
    {
      "cell_type": "code",
      "source": [
        "def avg(a, b, c):\n",
        "    sum = a+b+c\n",
        "    print(sum/3)\n",
        "\n",
        "avg(3,5,10)"
      ],
      "metadata": {
        "colab": {
          "base_uri": "https://localhost:8080/"
        },
        "id": "XErYna5hubMV",
        "outputId": "704f1a59-a9f6-4070-86f9-2a8df79fab20"
      },
      "execution_count": null,
      "outputs": [
        {
          "output_type": "stream",
          "name": "stdout",
          "text": [
            "6.0\n"
          ]
        }
      ]
    },
    {
      "cell_type": "code",
      "source": [
        "import random\n",
        "\n",
        "def dice_n_times(n):\n",
        "    for i in range(n):\n",
        "        k = random.randint(1,6)\n",
        "        print(i+1, \"번째 주사위 굴린 결과: \", k)\n",
        "\n",
        "dice_n_times(6)"
      ],
      "metadata": {
        "colab": {
          "base_uri": "https://localhost:8080/"
        },
        "id": "lugomes2ubOk",
        "outputId": "966e89d8-c4e5-4532-ca60-be56d2982b53"
      },
      "execution_count": null,
      "outputs": [
        {
          "output_type": "stream",
          "name": "stdout",
          "text": [
            "1 번째 주사위 굴린 결과:  6\n",
            "2 번째 주사위 굴린 결과:  6\n",
            "3 번째 주사위 굴린 결과:  3\n",
            "4 번째 주사위 굴린 결과:  4\n",
            "5 번째 주사위 굴린 결과:  5\n",
            "6 번째 주사위 굴린 결과:  6\n"
          ]
        }
      ]
    },
    {
      "cell_type": "code",
      "source": [
        "def intsum(*ints):\n",
        "    sum =0\n",
        "    for i in ints:\n",
        "        sum += i\n",
        "    return sum\n",
        "\n",
        "print(intsum(1,2,3))\n",
        "print(intsum(5,7,9,11,13))\n",
        "print(intsum(8,9,6,2,9,7,5,8))"
      ],
      "metadata": {
        "id": "iYliBcrrubRM",
        "colab": {
          "base_uri": "https://localhost:8080/"
        },
        "outputId": "4e9b9561-bb78-4928-f809-dd17078232c3"
      },
      "execution_count": null,
      "outputs": [
        {
          "output_type": "stream",
          "name": "stdout",
          "text": [
            "6\n",
            "45\n",
            "54\n"
          ]
        }
      ]
    },
    {
      "cell_type": "code",
      "source": [
        "def print_n_times(n, *values):\n",
        "    for i in range(n):\n",
        "        for value in values:\n",
        "            print(value, end = ' ')\n",
        "        print()\n",
        "\n",
        "print_n_times(3, \"안녕하세요\", \"즐거운\", \"파이썬\")"
      ],
      "metadata": {
        "id": "58FzhZslubT0",
        "colab": {
          "base_uri": "https://localhost:8080/"
        },
        "outputId": "9fe10466-0f9a-4c7f-d918-32e1d85a4963"
      },
      "execution_count": null,
      "outputs": [
        {
          "output_type": "stream",
          "name": "stdout",
          "text": [
            "안녕하세요 즐거운 파이썬 \n",
            "안녕하세요 즐거운 파이썬 \n",
            "안녕하세요 즐거운 파이썬 \n"
          ]
        }
      ]
    },
    {
      "cell_type": "code",
      "source": [
        "def add_mul(choice, *args):\n",
        "    if choice == \"add\":\n",
        "        result = 0\n",
        "        for i in args:\n",
        "            result = result + i\n",
        "    elif choice == \"mul\":\n",
        "        result = 1\n",
        "        for i in args:\n",
        "            result = result * i\n",
        "    return result\n",
        "\n",
        "print(add_mul('add', 1,2,3,4,5))\n",
        "print(add_mul('mul', 1,2,3,4,5))"
      ],
      "metadata": {
        "id": "-FwYKdICubYU",
        "colab": {
          "base_uri": "https://localhost:8080/"
        },
        "outputId": "7ddb843e-eb35-41c1-d58a-d3d9cf9b6924"
      },
      "execution_count": null,
      "outputs": [
        {
          "output_type": "stream",
          "name": "stdout",
          "text": [
            "15\n",
            "120\n"
          ]
        }
      ]
    },
    {
      "cell_type": "code",
      "source": [
        "def star(a, *args):\n",
        "    for i in args:\n",
        "        for j in range(int(i)):\n",
        "            print(a, end = '')\n",
        "        print()\n",
        "star('*', 3,5,2)"
      ],
      "metadata": {
        "id": "iwhOFtsPuba0",
        "colab": {
          "base_uri": "https://localhost:8080/"
        },
        "outputId": "9331e7c6-e04d-4b20-c32a-c350557da0ec"
      },
      "execution_count": null,
      "outputs": [
        {
          "output_type": "stream",
          "name": "stdout",
          "text": [
            "***\n",
            "*****\n",
            "**\n"
          ]
        }
      ]
    },
    {
      "cell_type": "code",
      "source": [
        "def calcstep(begin, end, step = 1):\n",
        "    sum = 0\n",
        "    for num in range(begin, end+1, step):\n",
        "        sum += num\n",
        "    print(\"{}부터 {}까지 숫자 중 {}간격씩 더한 값은 \".format(begin, end, step), end = '')\n",
        "    return sum\n",
        "\n",
        "print(calcstep(1,100, 1))\n",
        "print(calcstep(1, 100))"
      ],
      "metadata": {
        "id": "FUmHal1aubfk",
        "colab": {
          "base_uri": "https://localhost:8080/"
        },
        "outputId": "55e25e34-f16e-4f00-cbfc-f63826643ebc"
      },
      "execution_count": null,
      "outputs": [
        {
          "output_type": "stream",
          "name": "stdout",
          "text": [
            "1부터 100까지 숫자 중 1간격씩 더한 값은 5050\n",
            "1부터 100까지 숫자 중 1간격씩 더한 값은 5050\n"
          ]
        }
      ]
    },
    {
      "cell_type": "code",
      "source": [
        "def fn(a,b,c,d,e):\n",
        "    print(a,b,c,d,e)\n",
        "\n",
        "fn(1,2,3,4,5)\n",
        "fn(a=1, b=2, c=3, d=4, e=5)\n",
        "fn(e=5, c=3, b=2, a=1, d=4)\n",
        "fn(1,2, d=4, c=3, e=5)"
      ],
      "metadata": {
        "id": "6-gWZZgoubks",
        "colab": {
          "base_uri": "https://localhost:8080/"
        },
        "outputId": "45a33cb8-4a9e-4e18-e3cf-64084fe40a0c"
      },
      "execution_count": null,
      "outputs": [
        {
          "output_type": "stream",
          "name": "stdout",
          "text": [
            "1 2 3 4 5\n",
            "1 2 3 4 5\n",
            "1 2 3 4 5\n",
            "1 2 3 4 5\n"
          ]
        }
      ]
    },
    {
      "cell_type": "code",
      "source": [
        "fn(d=4, e=5, 1,2,3)"
      ],
      "metadata": {
        "id": "fQIvlhK1ubnU",
        "colab": {
          "base_uri": "https://localhost:8080/",
          "height": 147
        },
        "outputId": "5533ffa9-06d2-458e-cf79-de5cd111ec64"
      },
      "execution_count": null,
      "outputs": [
        {
          "output_type": "error",
          "ename": "SyntaxError",
          "evalue": "ignored",
          "traceback": [
            "\u001b[0;36m  File \u001b[0;32m\"<ipython-input-34-ef35332df50f>\"\u001b[0;36m, line \u001b[0;32m1\u001b[0m\n\u001b[0;31m    fn(d=4, e=5, 1,2,3)\u001b[0m\n\u001b[0m                      ^\u001b[0m\n\u001b[0;31mSyntaxError\u001b[0m\u001b[0;31m:\u001b[0m positional argument follows keyword argument\n"
          ]
        }
      ]
    },
    {
      "cell_type": "code",
      "source": [],
      "metadata": {
        "id": "8KJiyw8tubpd"
      },
      "execution_count": null,
      "outputs": []
    },
    {
      "cell_type": "code",
      "source": [],
      "metadata": {
        "id": "VhFnttbKubr9"
      },
      "execution_count": null,
      "outputs": []
    },
    {
      "cell_type": "code",
      "source": [],
      "metadata": {
        "id": "YxhOxA9IubuM"
      },
      "execution_count": null,
      "outputs": []
    },
    {
      "cell_type": "code",
      "source": [],
      "metadata": {
        "id": "1StDcLHdubwc"
      },
      "execution_count": null,
      "outputs": []
    }
  ]
}